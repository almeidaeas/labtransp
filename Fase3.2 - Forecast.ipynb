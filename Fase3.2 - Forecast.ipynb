{
 "cells": [
  {
   "cell_type": "code",
   "execution_count": 1,
   "id": "0acbce9e-1c13-4a74-98a8-a820fd50a412",
   "metadata": {
    "tags": []
   },
   "outputs": [],
   "source": [
    "import pandas as pd\n",
    "import numpy as np\n",
    "import pickle\n",
    "from datetime import date, timedelta\n",
    "import matplotlib.pyplot as plt\n",
    "import os\n",
    "import re\n",
    "from openpyxl import load_workbook\n",
    "\n",
    "\n",
    "from Fase3_Aux_Func import (agrupamento_periodico,\n",
    "                            ajuste_datas_historica,\n",
    "                            conversao_array,\n",
    "                            plot_serie,\n",
    "                            plot_decomposicao,\n",
    "                            suavizacao_simples,\n",
    "                            suavizacao_exponencial,\n",
    "                            holt_winters,\n",
    "                            arma,\n",
    "                            arima_sazonal,\n",
    "                            analise_residuos,\n",
    "                            check_stationarity,\n",
    "                            grid_search_best_model,\n",
    "                            load_models,\n",
    "                            criar_forecast)"
   ]
  },
  {
   "cell_type": "code",
   "execution_count": 8,
   "id": "27fa2c8c-4b04-4a1d-b868-9b56305f74f4",
   "metadata": {
    "tags": []
   },
   "outputs": [],
   "source": [
    "global local_origem \n",
    "global data_corte_treinamento\n",
    "\n",
    "local_origem = \"C:/Lab Transp/Dados Processados/\"\n",
    "local_destino = \"C:/Lab Transp/Dados Processados/\"\n",
    "data_corte_treinamento = '2024-06-30'"
   ]
  },
  {
   "cell_type": "markdown",
   "id": "b6c80615-f3f4-4b0c-976c-d2a58b6bf835",
   "metadata": {
    "tags": []
   },
   "source": [
    "### 1. Carregamento dos Dados e Arquivos dos Modelos"
   ]
  },
  {
   "cell_type": "code",
   "execution_count": 4,
   "id": "4b1681e9-2f5c-49dc-ad41-ed1aacee770b",
   "metadata": {
    "tags": []
   },
   "outputs": [
    {
     "data": {
      "text/html": [
       "<div>\n",
       "<style scoped>\n",
       "    .dataframe tbody tr th:only-of-type {\n",
       "        vertical-align: middle;\n",
       "    }\n",
       "\n",
       "    .dataframe tbody tr th {\n",
       "        vertical-align: top;\n",
       "    }\n",
       "\n",
       "    .dataframe thead th {\n",
       "        text-align: right;\n",
       "    }\n",
       "</style>\n",
       "<table border=\"1\" class=\"dataframe\">\n",
       "  <thead>\n",
       "    <tr style=\"text-align: right;\">\n",
       "      <th></th>\n",
       "      <th>Ano</th>\n",
       "      <th>Mes</th>\n",
       "      <th>Cidade</th>\n",
       "      <th>Zona</th>\n",
       "      <th>Sub_Prefeitura</th>\n",
       "      <th>Volume_Passageiros_BU_VT_DIN</th>\n",
       "    </tr>\n",
       "  </thead>\n",
       "  <tbody>\n",
       "    <tr>\n",
       "      <th>0</th>\n",
       "      <td>2014</td>\n",
       "      <td>1</td>\n",
       "      <td>TOTAL</td>\n",
       "      <td>CENTRO</td>\n",
       "      <td>SE</td>\n",
       "      <td>19599200</td>\n",
       "    </tr>\n",
       "    <tr>\n",
       "      <th>1</th>\n",
       "      <td>2014</td>\n",
       "      <td>1</td>\n",
       "      <td>TOTAL</td>\n",
       "      <td>LESTE</td>\n",
       "      <td>ARICANDUVA-FORMOSA-CARRAO</td>\n",
       "      <td>1234500</td>\n",
       "    </tr>\n",
       "    <tr>\n",
       "      <th>2</th>\n",
       "      <td>2014</td>\n",
       "      <td>1</td>\n",
       "      <td>TOTAL</td>\n",
       "      <td>LESTE</td>\n",
       "      <td>ERMELINO MATARAZZO</td>\n",
       "      <td>37373</td>\n",
       "    </tr>\n",
       "    <tr>\n",
       "      <th>3</th>\n",
       "      <td>2014</td>\n",
       "      <td>1</td>\n",
       "      <td>TOTAL</td>\n",
       "      <td>LESTE</td>\n",
       "      <td>GUAIANASES</td>\n",
       "      <td>2652418</td>\n",
       "    </tr>\n",
       "    <tr>\n",
       "      <th>4</th>\n",
       "      <td>2014</td>\n",
       "      <td>1</td>\n",
       "      <td>TOTAL</td>\n",
       "      <td>LESTE</td>\n",
       "      <td>ITAIM PAULISTA</td>\n",
       "      <td>623072</td>\n",
       "    </tr>\n",
       "  </tbody>\n",
       "</table>\n",
       "</div>"
      ],
      "text/plain": [
       "    Ano  Mes Cidade    Zona             Sub_Prefeitura  \\\n",
       "0  2014    1  TOTAL  CENTRO                         SE   \n",
       "1  2014    1  TOTAL   LESTE  ARICANDUVA-FORMOSA-CARRAO   \n",
       "2  2014    1  TOTAL   LESTE         ERMELINO MATARAZZO   \n",
       "3  2014    1  TOTAL   LESTE                 GUAIANASES   \n",
       "4  2014    1  TOTAL   LESTE             ITAIM PAULISTA   \n",
       "\n",
       "   Volume_Passageiros_BU_VT_DIN  \n",
       "0                      19599200  \n",
       "1                       1234500  \n",
       "2                         37373  \n",
       "3                       2652418  \n",
       "4                        623072  "
      ]
     },
     "execution_count": 4,
     "metadata": {},
     "output_type": "execute_result"
    }
   ],
   "source": [
    "'''\n",
    "LEMBRA DE MUDAR O NOME DO ARQUIVO PARA df_final_tratado DEPOIS DE AUTALIZAR O BD_BILHETAGEM E RODAR O DF TRATADO\n",
    "'''\n",
    "df_bilhetagem = pd.read_csv(local_origem + \"/df_final_agrupado_ano_mes.csv\", sep=\",\", decimal=\",\" )\n",
    "df_bilhetagem['Volume_Passageiros_BU_VT_DIN'] = df_bilhetagem['Volume_Passageiros_BU_VT_DIN'].astype(int)\n",
    "df_bilhetagem.head()"
   ]
  },
  {
   "cell_type": "code",
   "execution_count": 5,
   "id": "7509ec9c-8d6b-4624-b6ff-e0de622f6b39",
   "metadata": {
    "tags": []
   },
   "outputs": [],
   "source": [
    "'''\n",
    "Irá realizar os ajustes de datas necessários, periorizando por dia, além de quebrar em 2 arquivos\n",
    "'''\n",
    "df_subpref, df_zonas, df_total = agrupamento_periodico(df_bilhetagem)"
   ]
  },
  {
   "cell_type": "code",
   "execution_count": 6,
   "id": "0bf17469-e3d8-4a2c-ac41-31a1fa5cf9cc",
   "metadata": {
    "tags": []
   },
   "outputs": [],
   "source": [
    "# Dicionário com os caminhos dos arquivos pickle dos modelos\n",
    "model_file_subpref = 'best_models_subpref_{0}.pkl'\n",
    "model_file_zona = 'best_models_zona_{0}.pkl'\n",
    "model_file_total = 'best_models_total.pkl'"
   ]
  },
  {
   "cell_type": "markdown",
   "id": "c0c03984-8448-48e9-9e9b-1f30d4ebb88e",
   "metadata": {},
   "source": [
    "### 2. Criação dos Forecasts"
   ]
  },
  {
   "cell_type": "code",
   "execution_count": null,
   "id": "4b0797f4-94a4-49b3-8d5a-9e9f5f1fb6d7",
   "metadata": {
    "tags": []
   },
   "outputs": [],
   "source": [
    "# Loop para fazer o forecast e salvar os resultados para cada subprefeitura e zona\n",
    "for sub_prefeitura in df_subpref['Sub_Prefeitura'].unique():\n",
    "    output_file = f\"{local_origem}/Forecasts/forecast_subpref_{sub_prefeitura}.csv\"\n",
    "    \n",
    "    criar_forecast(df_subpref, \n",
    "                   'Sub_Prefeitura',\n",
    "                   sub_prefeitura, \n",
    "                   model_file_subpref,\n",
    "                   output_file,\n",
    "                   12)\n",
    "\n",
    "print(\"Forecasts subprefeituras realizados e salvos com sucesso.\")"
   ]
  },
  {
   "cell_type": "code",
   "execution_count": null,
   "id": "73958bfc-c7af-4836-a13a-ff13d3832066",
   "metadata": {
    "tags": []
   },
   "outputs": [],
   "source": [
    "for zona in df_zonas['Zona'].unique():\n",
    "    output_file = f\"{local_origem}/Forecasts/forecast_zona_{zona}.csv\"\n",
    "    criar_forecast(df_zonas, 'Zona', zona, model_file_zona, output_file, 12)\n",
    "    \n",
    "print(\"Forecasts Zonas realizados e salvos com sucesso.\")"
   ]
  },
  {
   "cell_type": "code",
   "execution_count": 12,
   "id": "4c5ce487",
   "metadata": {},
   "outputs": [
    {
     "name": "stdout",
     "output_type": "stream",
     "text": [
      "Processando Cidade = TOTAL\n",
      "O intevalo corresponde a 133  datas\n",
      "Séries geradas para o modelo de séries temporais\n",
      "Gerando decomposição da série\n",
      "Gerando função de autocorrelação\n",
      "Gerando forecasts\n",
      "Forecast salvo em C:/Users/f112596/Desktop/Projetos/DO/Lab Transp/Dados Processados/Forecasts/forecast_TOTAL.csv\n",
      "Forecasts para Total realizados e salvos com sucesso.\n"
     ]
    }
   ],
   "source": [
    "#Total\n",
    "output_file = f\"{local_origem}/Forecasts/forecast_TOTAL.csv\"\n",
    "criar_forecast(df_total, 'Cidade', 'TOTAL', model_file_total, output_file, 12)\n",
    "print(\"Forecasts para Total realizados e salvos com sucesso.\")"
   ]
  },
  {
   "cell_type": "markdown",
   "id": "74cfae41",
   "metadata": {},
   "source": [
    "### 3. Consolidação dos Arquivos"
   ]
  },
  {
   "cell_type": "code",
   "execution_count": 13,
   "id": "567b875a",
   "metadata": {},
   "outputs": [
    {
     "data": {
      "text/plain": [
       "'C:/Users/f112596/Desktop/Projetos/DO/Lab Transp/Dados Processados/Forecasts/Forecast_Linhas.xlsx'"
      ]
     },
     "execution_count": 13,
     "metadata": {},
     "output_type": "execute_result"
    }
   ],
   "source": [
    "arquivo_saida = f'{local_origem}/Forecasts/Forecast_Linhas.xlsx'\n",
    "arquivo_saida"
   ]
  },
  {
   "cell_type": "code",
   "execution_count": 20,
   "id": "ef5a97c1",
   "metadata": {},
   "outputs": [
    {
     "name": "stdout",
     "output_type": "stream",
     "text": [
      "forecast_TOTAL.csv\n",
      "None\n"
     ]
    }
   ],
   "source": [
    "for arquivo_forecast in os.listdir(f'{local_origem}/Forecasts'):\n",
    "    if arquivo_forecast.endswith('TOTAL.csv'):\n",
    "        print(arquivo_forecast)\n",
    "        sheet_name_match = re.search(r'^[^_]*_[^_]*_([^.]*)', \n",
    "                                     arquivo_forecast)\n",
    "        print(sheet_name_match)"
   ]
  },
  {
   "cell_type": "code",
   "execution_count": 21,
   "id": "9c4944aa",
   "metadata": {},
   "outputs": [
    {
     "name": "stdout",
     "output_type": "stream",
     "text": [
      "Os arquivos CSV foram consolidados!\n"
     ]
    }
   ],
   "source": [
    "#Consolidando os CSVs \n",
    "with pd.ExcelWriter(arquivo_saida, engine='openpyxl') as excel_writer:\n",
    "    for arquivo_forecast in os.listdir(f'{local_origem}/Forecasts'):\n",
    "        if arquivo_forecast.endswith('.csv'):\n",
    "            \n",
    "            df = pd.read_csv(os.path.join(f'{local_origem}/Forecasts', arquivo_forecast),\n",
    "                             sep=\";\", decimal=\",\", encoding='latin-1')\n",
    "            \n",
    "            sheet_name_match = re.search(r'^[^_]*_[^_]*_([^.]*)', arquivo_forecast)\n",
    "\n",
    "            if sheet_name_match :\n",
    "                sheet_name = sheet_name_match.group(1)\n",
    "                \n",
    "            elif arquivo_forecast=='forecast_TOTAL.csv':\n",
    "                sheet_name = 'TOTAL'\n",
    "                \n",
    "            df.to_excel(excel_writer, sheet_name=sheet_name, index=False)\n",
    "\n",
    "#Auto Ajuste nas Collunas\n",
    "wb = load_workbook(arquivo_saida)\n",
    "\n",
    "for sheet in wb.sheetnames:\n",
    "    ws = wb[sheet]\n",
    "    for col in ws.columns:\n",
    "        max_length = 0\n",
    "        col_letter = col[0].column_letter\n",
    "        for cell in col:\n",
    "            if cell.value:\n",
    "                max_length = max(max_length, len(str(cell.value)))\n",
    "        ws.column_dimensions[col_letter].width = max_length + 2  # Ajuste para melhor visualização\n",
    "\n",
    "wb.save(arquivo_saida)\n",
    "\n",
    "print(\"Os arquivos CSV foram consolidados!\")"
   ]
  },
  {
   "cell_type": "code",
   "execution_count": null,
   "id": "4b601408",
   "metadata": {},
   "outputs": [],
   "source": []
  }
 ],
 "metadata": {
  "kernelspec": {
   "display_name": "Python 3",
   "language": "python",
   "name": "python3"
  },
  "language_info": {
   "codemirror_mode": {
    "name": "ipython",
    "version": 3
   },
   "file_extension": ".py",
   "mimetype": "text/x-python",
   "name": "python",
   "nbconvert_exporter": "python",
   "pygments_lexer": "ipython3",
   "version": "3.8.8"
  }
 },
 "nbformat": 4,
 "nbformat_minor": 5
}
