{
 "cells": [
  {
   "cell_type": "code",
   "execution_count": 1,
   "id": "0acbce9e-1c13-4a74-98a8-a820fd50a412",
   "metadata": {
    "tags": []
   },
   "outputs": [],
   "source": [
    "import pandas as pd\n",
    "import numpy as np\n",
    "import pickle\n",
    "from datetime import date, timedelta\n",
    "import matplotlib.pyplot as plt\n",
    "\n",
    "\n",
    "from Fase3_Aux_Func import (agrupamento_periodico,\n",
    "                            ajuste_datas_historica,\n",
    "                            conversao_array,\n",
    "                            plot_serie,\n",
    "                            plot_decomposicao,\n",
    "                            suavizacao_simples,\n",
    "                            suavizacao_exponencial,\n",
    "                            holt_winters,\n",
    "                            arma,\n",
    "                            arima_sazonal,\n",
    "                            analise_residuos,\n",
    "                            check_stationarity,\n",
    "                            grid_search_best_model,\n",
    "                            load_models,\n",
    "                            criar_forecast)"
   ]
  },
  {
   "cell_type": "code",
   "execution_count": 2,
   "id": "27fa2c8c-4b04-4a1d-b868-9b56305f74f4",
   "metadata": {
    "tags": []
   },
   "outputs": [],
   "source": [
    "global local_origem \n",
    "global data_corte_treinamento\n",
    "\n",
    "local_origem = \"C:/Lab Transp/Dados Processados\"\n",
    "data_corte_treinamento = '2023-04-30'"
   ]
  },
  {
   "cell_type": "markdown",
   "id": "b6c80615-f3f4-4b0c-976c-d2a58b6bf835",
   "metadata": {
    "tags": []
   },
   "source": [
    "### 1. Carregamento dos Dados e Arquivos dos Modelos"
   ]
  },
  {
   "cell_type": "code",
   "execution_count": 3,
   "id": "4b1681e9-2f5c-49dc-ad41-ed1aacee770b",
   "metadata": {
    "tags": []
   },
   "outputs": [],
   "source": [
    "'''\n",
    "LEMBRA DE MUDAR O NOME DO ARQUIVO PARA df_final_tratado DEPOIS DE AUTALIZAR O BD_BILHETAGEM E RODAR O DF TRATADO\n",
    "'''\n",
    "df_bilhetagem = pd.read_csv(local_origem + \"/Dataframe Final.csv\", sep=\";\", decimal=\".\" )\n",
    "df_bilhetagem['Volume_Passageiros (BU + VT + DIN)'] = df_bilhetagem['Volume_Passageiros (BU + VT + DIN)'].astype(int)"
   ]
  },
  {
   "cell_type": "code",
   "execution_count": 4,
   "id": "7509ec9c-8d6b-4624-b6ff-e0de622f6b39",
   "metadata": {
    "tags": []
   },
   "outputs": [],
   "source": [
    "'''\n",
    "Irá realizar os ajustes de datas necessários, periorizando por dia, além de quebrar em 2 arquivos\n",
    "'''\n",
    "df_subpref, df_zonas = agrupamento_periodico(df_bilhetagem)"
   ]
  },
  {
   "cell_type": "code",
   "execution_count": 5,
   "id": "0bf17469-e3d8-4a2c-ac41-31a1fa5cf9cc",
   "metadata": {
    "tags": []
   },
   "outputs": [],
   "source": [
    "# Dicionário com os caminhos dos arquivos pickle dos modelos\n",
    "model_file_subpref = 'best_models_subpref_{0}.pkl'\n",
    "model_file_zona = 'best_models_zona_{0}.pkl'"
   ]
  },
  {
   "cell_type": "code",
   "execution_count": 6,
   "id": "1f3154ad",
   "metadata": {},
   "outputs": [
    {
     "data": {
      "text/plain": [
       "'best_models_subpref_{0}.pkl'"
      ]
     },
     "execution_count": 6,
     "metadata": {},
     "output_type": "execute_result"
    }
   ],
   "source": [
    "model_file_subpref"
   ]
  },
  {
   "cell_type": "markdown",
   "id": "c0c03984-8448-48e9-9e9b-1f30d4ebb88e",
   "metadata": {},
   "source": [
    "### 2. Criação dos Forecasts"
   ]
  },
  {
   "cell_type": "code",
   "execution_count": null,
   "id": "4b0797f4-94a4-49b3-8d5a-9e9f5f1fb6d7",
   "metadata": {
    "tags": []
   },
   "outputs": [],
   "source": [
    "# Loop para fazer o forecast e salvar os resultados para cada subprefeitura e zona\n",
    "for sub_prefeitura in df_subpref['Sub_Prefeitura'].unique():\n",
    "    output_file = f'forecast_subpref_{sub_prefeitura}.csv'\n",
    "    forecast_and_save(df_subpref, 'Sub_Prefeitura', sub_prefeitura, model_file_subpref, output_file)\n",
    "\n",
    "print(\"Forecasts subprefeituras realizados e salvos com sucesso.\")"
   ]
  },
  {
   "cell_type": "code",
   "execution_count": null,
   "id": "73958bfc-c7af-4836-a13a-ff13d3832066",
   "metadata": {
    "tags": []
   },
   "outputs": [],
   "source": [
    "for zona in df_zonas['Zona'].unique():\n",
    "    output_file = f'forecast_zona_{zona}.csv'\n",
    "    forecast_and_save(df_zonas, 'Zona', zona, model_files_zona, output_file)\n",
    "    \n",
    "print(\"Forecasts subprefeituras realizados e salvos com sucesso.\")"
   ]
  },
  {
   "cell_type": "markdown",
   "id": "74cfae41",
   "metadata": {},
   "source": [
    "### 3. Consolidação dos Arquivos"
   ]
  },
  {
   "cell_type": "code",
   "execution_count": null,
   "id": "1d1ce719-af47-4505-bacc-ae53a66d8ae2",
   "metadata": {},
   "outputs": [],
   "source": []
  }
 ],
 "metadata": {
  "kernelspec": {
   "display_name": "Python 3",
   "language": "python",
   "name": "python3"
  },
  "language_info": {
   "codemirror_mode": {
    "name": "ipython",
    "version": 3
   },
   "file_extension": ".py",
   "mimetype": "text/x-python",
   "name": "python",
   "nbconvert_exporter": "python",
   "pygments_lexer": "ipython3",
   "version": "3.8.8"
  }
 },
 "nbformat": 4,
 "nbformat_minor": 5
}
