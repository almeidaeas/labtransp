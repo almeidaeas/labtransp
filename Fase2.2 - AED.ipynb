{
 "cells": [
  {
   "cell_type": "markdown",
   "id": "68f0d141",
   "metadata": {},
   "source": [
    "### Importação das Libs"
   ]
  },
  {
   "cell_type": "code",
   "execution_count": 1,
   "id": "370a9dc3",
   "metadata": {},
   "outputs": [],
   "source": [
    "#!pip install import_ipynb\n",
    "#import import_ipynb\n",
    "#import Fase2_PreProcessamento.ipynb"
   ]
  },
  {
   "cell_type": "code",
   "execution_count": 2,
   "id": "31952fb9",
   "metadata": {},
   "outputs": [],
   "source": [
    "import pandas as pd\n",
    "import numpy as np\n",
    "import pickle\n",
    "\n",
    "#Pacotes Estatísticos\n",
    "import scipy\n",
    "\n",
    "#ML\n",
    "from sklearn.preprocessing import StandardScaler\n",
    "from sklearn.preprocessing import MinMaxScaler\n",
    "\n",
    "#Gráficos\n",
    "import seaborn as sns\n",
    "from matplotlib import pyplot as plt"
   ]
  },
  {
   "cell_type": "markdown",
   "id": "fba709b3",
   "metadata": {},
   "source": [
    "### Variáveis de Configuração"
   ]
  },
  {
   "cell_type": "code",
   "execution_count": 3,
   "id": "03f72df6",
   "metadata": {},
   "outputs": [],
   "source": [
    "local_origem = \"C:/Lab Transp/Dados Processados/\"\n",
    "local_destino = \"C:/Lab Transp/Dados Processados/\"\n",
    "\n",
    "\n",
    "#Configurações Gráficas\n",
    "plt.rcParams['figure.figsize'] = [20, 8]\n",
    "sns.set_style(\"darkgrid\")\n",
    "\n",
    "#Determinação das Datas de Corte\n",
    "data_inicio ='2012-01-01'  #Data de início para a análise\n",
    "data_fim ='2023-12-31'     #Data de fim para a análise\n",
    "\n",
    "data_corte_pre_pandemia = '2018-01-01'     #Data Comparativa de Corte Inicial para o Período Pré-Pandemia\n",
    "data_corte_pos_pandemia = '2022-01-01'     #Data Comparativa de Corte Final para o Período Pré-Pandemia\n",
    "\n",
    "fonte_1 = {'family': 'sans serif', 'size' : 20}\n",
    "fonte_2 = {'family': 'sans serif', 'size' : 15}"
   ]
  },
  {
   "cell_type": "code",
   "execution_count": 4,
   "id": "71b1388b",
   "metadata": {
    "scrolled": false
   },
   "outputs": [
    {
     "name": "stderr",
     "output_type": "stream",
     "text": [
      "<ipython-input-4-2a78f8349078>:1: DtypeWarning: Columns (2,3,5) have mixed types. Specify dtype option on import or set low_memory=False.\n",
      "  df_final_tratado = pd.read_csv(local_destino + \"\\\\\" + 'df_final_tratado' + \".csv\", encoding=\"latin-1\", decimal=\",\")\n"
     ]
    },
    {
     "name": "stdout",
     "output_type": "stream",
     "text": [
      "<class 'pandas.core.frame.DataFrame'>\n",
      "RangeIndex: 3438312 entries, 0 to 3438311\n",
      "Data columns (total 26 columns):\n",
      " #   Column                         Dtype  \n",
      "---  ------                         -----  \n",
      " 0   Nome_Arquivo                   object \n",
      " 1   Data                           object \n",
      " 2   Area                           object \n",
      " 3   Empresa                        object \n",
      " 4   Linha_Completa                 object \n",
      " 5   Tipo                           object \n",
      " 6   Total                          float64\n",
      " 7   Linha                          object \n",
      " 8   Nome_Ponto_Inicial             object \n",
      " 9   Sub_Prefeitura                 object \n",
      " 10  Lat_Long_Ponto_Inicial         object \n",
      " 11  Nome_Ponto_Final               object \n",
      " 12  Lat_Long_Ponto_Final           object \n",
      " 13  Ano                            int64  \n",
      " 14  Mes                            int64  \n",
      " 15  Dia                            int64  \n",
      " 16  Volume_Passageiros_Pagantes    float64\n",
      " 17  Volume_Pagantes_Dinheiro       float64\n",
      " 18  Volume_Passageiros_Gratuidade  float64\n",
      " 19  Volume_BU_Comum                float64\n",
      " 20  Volume_BU_Vale_Transporte      float64\n",
      " 21  Volume_Integracao              float64\n",
      " 22  Volume_BU_Estudante            float64\n",
      " 23  Volume_Passageiros_BU_VT       float64\n",
      " 24  Volume_Passageiros_BU_VT_DIN   float64\n",
      " 25  Zona                           object \n",
      "dtypes: float64(10), int64(3), object(13)\n",
      "memory usage: 682.0+ MB\n"
     ]
    }
   ],
   "source": [
    "df_final_tratado = pd.read_csv(local_destino + \"\\\\\" + 'df_final_tratado' + \".csv\", encoding=\"latin-1\", decimal=\",\")\n",
    "df_final_tratado.info()"
   ]
  },
  {
   "cell_type": "code",
   "execution_count": 5,
   "id": "b6fbc978",
   "metadata": {},
   "outputs": [],
   "source": [
    "#Conversão de e tratamento de campos String:\n",
    "df_final_tratado[\"Nome_Arquivo\"] = df_final_tratado[\"Nome_Arquivo\"].astype(str)\n",
    "df_final_tratado[\"Area\"] = df_final_tratado[\"Area\"].astype(str)\n",
    "df_final_tratado[\"Empresa\"] = df_final_tratado[\"Empresa\"].astype(str)\n",
    "df_final_tratado[\"Linha_Completa\"] = df_final_tratado[\"Linha_Completa\"].astype(str)\n",
    "df_final_tratado[\"Tipo\"] = df_final_tratado[\"Tipo\"].astype(str)\n",
    "df_final_tratado[\"Linha\"] = df_final_tratado[\"Linha\"].astype(str)\n",
    "df_final_tratado[\"Nome_Ponto_Inicial\"] = df_final_tratado[\"Nome_Ponto_Inicial\"].astype(str)\n",
    "df_final_tratado[\"Sub_Prefeitura\"] = df_final_tratado[\"Sub_Prefeitura\"].astype(str)\n",
    "df_final_tratado[\"Lat_Long_Ponto_Inicial\"] = df_final_tratado[\"Lat_Long_Ponto_Inicial\"].astype(str)\n",
    "df_final_tratado[\"Nome_Ponto_Final\"] = df_final_tratado[\"Nome_Ponto_Final\"].astype(str)\n",
    "df_final_tratado[\"Lat_Long_Ponto_Final\"] = df_final_tratado[\"Lat_Long_Ponto_Final\"].astype(str)\n",
    "\n",
    "#Conversão e tratamento de campo data\n",
    "df_final_tratado[\"Data\"] = pd.to_datetime(df_final_tratado[\"Data\"].astype(str))\n",
    "\n",
    "#Conversão e tratamento de campos númericos\n",
    "df_final_tratado[\"Volume_Passageiros_Gratuidade\"] = df_final_tratado[\"Volume_Passageiros_Gratuidade\"].astype(float)\n",
    "df_final_tratado[\"Volume_BU_Comum\"] = df_final_tratado[\"Volume_BU_Comum\"].astype(float)\n",
    "df_final_tratado[\"Volume_BU_Vale_Transporte\"] = df_final_tratado[\"Volume_BU_Vale_Transporte\"].astype(float)\n",
    "df_final_tratado[\"Volume_Integracao\"] = df_final_tratado[\"Volume_Integracao\"].astype(float)\n",
    "df_final_tratado[\"Volume_BU_Estudante\"] = df_final_tratado[\"Volume_BU_Estudante\"].astype(float)\n",
    "df_final_tratado[\"Volume_Passageiros_BU_VT\"] = df_final_tratado[\"Volume_Passageiros_BU_VT\"].astype(float)\n",
    "df_final_tratado[\"Volume_Passageiros_BU_VT_DIN\"] = df_final_tratado[\"Volume_Passageiros_BU_VT_DIN\"].astype(float)\n",
    "\n",
    "df_final_tratado[\"Ano\"] = df_final_tratado[\"Ano\"].fillna(df_final_tratado[\"Data\"].dt.year).astype(int)\n",
    "df_final_tratado[\"Mes\"] = df_final_tratado[\"Mes\"].fillna(df_final_tratado[\"Data\"].dt.month).astype(int)\n",
    "df_final_tratado[\"Dia\"] = df_final_tratado[\"Dia\"].fillna(df_final_tratado[\"Data\"].dt.day).astype(int)\n",
    "\n",
    "\n",
    "#Definição do Dia da Semana\n",
    "dic_dia_semana = {\"Monday\" : \"Segunda-Feira\",\n",
    "                  \"Tuesday\" : \"Terça-Feira\",\n",
    "                  \"Wednesday\" : \"Quarta-Feira\", \n",
    "                  \"Thursday\" : \"Quinta-Feira\",\n",
    "                  \"Friday\" : \"Sexta-Feira\",\n",
    "                  \"Saturday\" : \"Sábado\",\n",
    "                  \"Sunday\" : \"Domingo\"}\n",
    "\n",
    "df_final_tratado[\"Dia_Semana\"] = df_final_tratado[\"Data\"].dt.day_name()\n",
    "df_final_tratado[\"Dia_Semana\"] = df_final_tratado[\"Dia_Semana\"].map(dic_dia_semana)"
   ]
  },
  {
   "cell_type": "markdown",
   "id": "ab395afb",
   "metadata": {},
   "source": [
    "## 1 Validações Iniciais"
   ]
  },
  {
   "cell_type": "markdown",
   "id": "1fe7614b",
   "metadata": {},
   "source": [
    "##### 1.1 Recuperando as Linhas Mães"
   ]
  },
  {
   "cell_type": "code",
   "execution_count": 6,
   "id": "08e7c8ad",
   "metadata": {},
   "outputs": [],
   "source": [
    "df_linhas_mae = pd.read_csv(local_destino + \"\\\\\" + 'df_linha_mae' + \".csv\", encoding=\"latin-1\", decimal=\",\")\n",
    "linhas_maes = df_linhas_mae['Linha'].to_list()\n",
    "df_linhas = None"
   ]
  },
  {
   "cell_type": "code",
   "execution_count": 7,
   "id": "a898e7e7",
   "metadata": {},
   "outputs": [],
   "source": [
    "outras_linhas = np.unique(df_final_tratado['Linha'])"
   ]
  },
  {
   "cell_type": "markdown",
   "id": "fc33ad4d",
   "metadata": {},
   "source": [
    "## 2 Análise Exploratória"
   ]
  },
  {
   "cell_type": "code",
   "execution_count": 28,
   "id": "581cdb10",
   "metadata": {},
   "outputs": [],
   "source": [
    "colunas_analisadas_linhas = ['Sub_Prefeitura', 'Zona', 'Ano', 'Mes', 'Linha']\n",
    "\n",
    "colunas_analisadas_subpref = ['Sub_Prefeitura', 'Zona', 'Ano', 'Mes', 'Volume_Passageiros_BU_VT_DIN']\n",
    "colunas_analisadas_zona = ['Zona', 'Ano', 'Mes', 'Volume_Passageiros_BU_VT_DIN']\n",
    "colunas_analisadas_total = ['Ano', 'Mes', 'Volume_Passageiros_BU_VT_DIN']"
   ]
  },
  {
   "cell_type": "code",
   "execution_count": 20,
   "id": "bdff1a61",
   "metadata": {},
   "outputs": [],
   "source": [
    "df_final_total = df_final_tratado[df_final_tratado['Linha'].isin(linhas_maes)][colunas_analisadas_total].groupby(colunas_analisadas_total[0:2], as_index=False).sum('Volume_Passageiros_BU_VT_DIN')\n",
    "df_final_zona = df_final_tratado[df_final_tratado['Linha'].isin(linhas_maes)][colunas_analisadas_zona].groupby(colunas_analisadas_zona[0:3], as_index=False).sum('Volume_Passageiros_BU_VT_DIN')\n",
    "df_final_subpref = df_final_tratado[df_final_tratado['Linha'].isin(linhas_maes)][colunas_analisadas_subpref].groupby(colunas_analisadas_subpref[0:5], as_index=False).sum('Volume_Passageiros_BU_VT_DIN')"
   ]
  },
  {
   "cell_type": "code",
   "execution_count": 29,
   "id": "2e8ed8f7",
   "metadata": {},
   "outputs": [
    {
     "data": {
      "text/html": [
       "<div>\n",
       "<style scoped>\n",
       "    .dataframe tbody tr th:only-of-type {\n",
       "        vertical-align: middle;\n",
       "    }\n",
       "\n",
       "    .dataframe tbody tr th {\n",
       "        vertical-align: top;\n",
       "    }\n",
       "\n",
       "    .dataframe thead th {\n",
       "        text-align: right;\n",
       "    }\n",
       "</style>\n",
       "<table border=\"1\" class=\"dataframe\">\n",
       "  <thead>\n",
       "    <tr style=\"text-align: right;\">\n",
       "      <th></th>\n",
       "      <th>Sub_Prefeitura</th>\n",
       "      <th>Zona</th>\n",
       "      <th>Ano</th>\n",
       "      <th>Mes</th>\n",
       "      <th>Linha</th>\n",
       "    </tr>\n",
       "  </thead>\n",
       "  <tbody>\n",
       "    <tr>\n",
       "      <th>0</th>\n",
       "      <td>ARICANDUVA-FORMOSA-CARRAO</td>\n",
       "      <td>LESTE</td>\n",
       "      <td>2014</td>\n",
       "      <td>1</td>\n",
       "      <td>62</td>\n",
       "    </tr>\n",
       "    <tr>\n",
       "      <th>1</th>\n",
       "      <td>ARICANDUVA-FORMOSA-CARRAO</td>\n",
       "      <td>LESTE</td>\n",
       "      <td>2014</td>\n",
       "      <td>2</td>\n",
       "      <td>56</td>\n",
       "    </tr>\n",
       "    <tr>\n",
       "      <th>2</th>\n",
       "      <td>ARICANDUVA-FORMOSA-CARRAO</td>\n",
       "      <td>LESTE</td>\n",
       "      <td>2014</td>\n",
       "      <td>3</td>\n",
       "      <td>62</td>\n",
       "    </tr>\n",
       "    <tr>\n",
       "      <th>3</th>\n",
       "      <td>ARICANDUVA-FORMOSA-CARRAO</td>\n",
       "      <td>LESTE</td>\n",
       "      <td>2014</td>\n",
       "      <td>4</td>\n",
       "      <td>60</td>\n",
       "    </tr>\n",
       "    <tr>\n",
       "      <th>4</th>\n",
       "      <td>ARICANDUVA-FORMOSA-CARRAO</td>\n",
       "      <td>LESTE</td>\n",
       "      <td>2014</td>\n",
       "      <td>5</td>\n",
       "      <td>62</td>\n",
       "    </tr>\n",
       "    <tr>\n",
       "      <th>...</th>\n",
       "      <td>...</td>\n",
       "      <td>...</td>\n",
       "      <td>...</td>\n",
       "      <td>...</td>\n",
       "      <td>...</td>\n",
       "    </tr>\n",
       "    <tr>\n",
       "      <th>1855</th>\n",
       "      <td>VILA MARIANA</td>\n",
       "      <td>SUL</td>\n",
       "      <td>2023</td>\n",
       "      <td>12</td>\n",
       "      <td>126</td>\n",
       "    </tr>\n",
       "    <tr>\n",
       "      <th>1856</th>\n",
       "      <td>VILA MARIANA</td>\n",
       "      <td>SUL</td>\n",
       "      <td>2024</td>\n",
       "      <td>1</td>\n",
       "      <td>100</td>\n",
       "    </tr>\n",
       "    <tr>\n",
       "      <th>1857</th>\n",
       "      <td>VILA MARIANA</td>\n",
       "      <td>SUL</td>\n",
       "      <td>2024</td>\n",
       "      <td>2</td>\n",
       "      <td>76</td>\n",
       "    </tr>\n",
       "    <tr>\n",
       "      <th>1858</th>\n",
       "      <td>VILA MARIANA</td>\n",
       "      <td>SUL</td>\n",
       "      <td>2024</td>\n",
       "      <td>3</td>\n",
       "      <td>106</td>\n",
       "    </tr>\n",
       "    <tr>\n",
       "      <th>1859</th>\n",
       "      <td>VILA MARIANA</td>\n",
       "      <td>SUL</td>\n",
       "      <td>2024</td>\n",
       "      <td>4</td>\n",
       "      <td>94</td>\n",
       "    </tr>\n",
       "  </tbody>\n",
       "</table>\n",
       "<p>1860 rows × 5 columns</p>\n",
       "</div>"
      ],
      "text/plain": [
       "                 Sub_Prefeitura   Zona   Ano  Mes  Linha\n",
       "0     ARICANDUVA-FORMOSA-CARRAO  LESTE  2014    1     62\n",
       "1     ARICANDUVA-FORMOSA-CARRAO  LESTE  2014    2     56\n",
       "2     ARICANDUVA-FORMOSA-CARRAO  LESTE  2014    3     62\n",
       "3     ARICANDUVA-FORMOSA-CARRAO  LESTE  2014    4     60\n",
       "4     ARICANDUVA-FORMOSA-CARRAO  LESTE  2014    5     62\n",
       "...                         ...    ...   ...  ...    ...\n",
       "1855               VILA MARIANA    SUL  2023   12    126\n",
       "1856               VILA MARIANA    SUL  2024    1    100\n",
       "1857               VILA MARIANA    SUL  2024    2     76\n",
       "1858               VILA MARIANA    SUL  2024    3    106\n",
       "1859               VILA MARIANA    SUL  2024    4     94\n",
       "\n",
       "[1860 rows x 5 columns]"
      ]
     },
     "execution_count": 29,
     "metadata": {},
     "output_type": "execute_result"
    }
   ],
   "source": [
    "df_final_linhas = df_final_tratado[df_final_tratado['Linha'].isin(linhas_maes)][colunas_analisadas_linhas].groupby(colunas_analisadas_linhas[0:4], as_index=False).count()\n",
    "df_final_linhas"
   ]
  },
  {
   "cell_type": "code",
   "execution_count": 22,
   "id": "b8d74859",
   "metadata": {},
   "outputs": [],
   "source": [
    "df_final_total.to_csv(local_destino + \"\\\\df_final_total.csv\", index=False, decimal=\",\", encoding='latin-1', sep=\";\")\n",
    "df_final_zona.to_csv(local_destino + \"\\\\df_final_zona.csv\", index=False, decimal=\",\", encoding='latin-1', sep=\";\")\n",
    "df_final_subpref.to_csv(local_destino + \"\\\\df_final_subpref.csv\", index=False, decimal=\",\", encoding='latin-1', sep=\";\")"
   ]
  },
  {
   "cell_type": "code",
   "execution_count": 30,
   "id": "e9bf0e68",
   "metadata": {},
   "outputs": [],
   "source": [
    "df_final_linhas.to_csv(local_destino + \"\\\\df_final_linhas.csv\", index=False, decimal=\",\", encoding='latin-1', sep=\";\")"
   ]
  },
  {
   "cell_type": "code",
   "execution_count": null,
   "id": "564326d5",
   "metadata": {},
   "outputs": [],
   "source": []
  },
  {
   "cell_type": "code",
   "execution_count": null,
   "id": "931665ae",
   "metadata": {},
   "outputs": [],
   "source": [
    "df_final_tratado[colunas_analisadas].describe()/1000"
   ]
  },
  {
   "cell_type": "markdown",
   "id": "52211ce3",
   "metadata": {},
   "source": [
    "### 2.1 Distribuição dos Dados"
   ]
  },
  {
   "cell_type": "code",
   "execution_count": null,
   "id": "2dbd5996",
   "metadata": {
    "scrolled": false
   },
   "outputs": [],
   "source": [
    "plt.rcParams['figure.figsize'] = [20, 8]\n",
    "for linha in linhas_maes[0:4]:\n",
    "    sns.histplot(df_final_tratado[df_final_tratado['Linha']==linha]['Volume_Passageiros_BU_VT_DIN'],\n",
    "                kde=True)\n",
    "    \n",
    "    plt.title(\"Histograma dos Totais para a Linha: \" + linha, font = fonte_1)\n",
    "    plt.xlabel(\"Quantidade Total de Passageiros\", font = fonte_2)\n",
    "    plt.ylabel(\"Frequencia\", font = fonte_2)\n",
    "    plt.show()"
   ]
  },
  {
   "cell_type": "markdown",
   "id": "cc6db5cf",
   "metadata": {},
   "source": [
    "### 2.2 Analise por Dia da Semana"
   ]
  },
  {
   "cell_type": "code",
   "execution_count": null,
   "id": "f66e880c",
   "metadata": {},
   "outputs": [],
   "source": [
    "sns.boxplot(data = df_final_tratado[(df_final_tratado['Linha']==linha) & (np.logical_not(df_final_tratado['Dia_Semana'].isin(['Sábado', 'Domingo'])))  ][['Dia_Semana', 'Ano', 'Linha', 'Volume_Passageiros_BU_VT_DIN']],\n",
    "y='Volume_Passageiros_BU_VT_DIN', x=\"Ano\", hue='Dia_Semana')"
   ]
  },
  {
   "cell_type": "code",
   "execution_count": null,
   "id": "aa6697fd",
   "metadata": {},
   "outputs": [],
   "source": [
    "plt.rcParams['figure.figsize'] = [20, 8]\n",
    "\n",
    "for linha in linhas_maes[0:3]:\n",
    "    sns.boxplot(data = df_final_tratado[df_final_tratado['Linha']==linha][['Dia_Semana', 'Linha', 'Volume_Passageiros_BU_VT']],\n",
    "                y='Volume_Passageiros_BU_VT', x=\"Dia_Semana\", \n",
    "                palette=\"crest\",\n",
    "                order=dic_dia_semana.values())\n",
    "    \n",
    "    plt.title(\"Boxplot dos Totais para a Linha: \" + linha, font = fonte_1)\n",
    "    plt.xlabel(\"Dia da Semana\", font = fonte_2)\n",
    "    plt.ylabel(\"Contagem de Passageiros\", font = fonte_2)\n",
    "    plt.show()"
   ]
  },
  {
   "cell_type": "markdown",
   "id": "248cc8a0",
   "metadata": {},
   "source": [
    "#### 2.2.1 Analise por Dia da Semana (PÓS-PANDEMIA)"
   ]
  },
  {
   "cell_type": "code",
   "execution_count": null,
   "id": "955a110e",
   "metadata": {},
   "outputs": [],
   "source": [
    "#Crio um campo booleano no dataframe para permitir a comparação\n",
    "df_final_tratado['Pos_Pandemia'] = np.where(df_final_tratado['Data']>=data_corte_pos_pandemia, \"Pós-Pandemia\", \"Pré-Pandemia\")"
   ]
  },
  {
   "cell_type": "code",
   "execution_count": null,
   "id": "53878503",
   "metadata": {
    "scrolled": false
   },
   "outputs": [],
   "source": [
    "for linha in linhas_maes[0:4]:\n",
    "    sns.boxplot(data = df_final_tratado[(df_final_tratado['Linha']==linha) & (df_final_tratado['Data']>=data_corte_pre_pandemia)][['Dia_Semana', 'Pos_Pandemia', 'Linha', 'Volume_Passageiros_BU_VT_DIN']],\n",
    "                y='Volume_Passageiros_BU_VT_DIN', x=\"Dia_Semana\", hue='Pos_Pandemia',\n",
    "                palette=\"flare\",\n",
    "                order=dic_dia_semana.values())\n",
    "    \n",
    "    plt.title(\"Boxplot do Volume Total de Passageiros para a Linha: \" + linha, font = fonte_1)\n",
    "    plt.xlabel(\"Dia da Semana\", font = fonte_2)\n",
    "    plt.ylabel(\"Quantidade Total de Passageiros\", font = fonte_2)\n",
    "    plt.legend(loc=\"upper right\")\n",
    "    plt.show()"
   ]
  },
  {
   "cell_type": "code",
   "execution_count": null,
   "id": "f12e9623",
   "metadata": {},
   "outputs": [],
   "source": [
    "for linha in linhas_maes[0:4]:\n",
    "    sns.histplot(data = df_final_tratado[(df_final_tratado['Linha']==linha) & (df_final_tratado['Data']>=data_corte_pre_pandemia)], \n",
    "                 x = 'Volume_Passageiros_BU_VT_DIN', hue='Pos_Pandemia', element=\"step\",\n",
    "                 kde=False, palette='flare')\n",
    "    \n",
    "    plt.title(\"Histograma dos Totais para a Linha: \" + linha, font = fonte_1)\n",
    "    plt.xlabel(\"Quantidade Total de Passageiros\", font = fonte_2)\n",
    "    plt.ylabel(\"Frequencia\", font = fonte_2)\n",
    "    plt.show()"
   ]
  },
  {
   "cell_type": "markdown",
   "id": "7056c451",
   "metadata": {},
   "source": [
    "### 2.3 Evolução Mensal da Quantidade de Passageiros"
   ]
  },
  {
   "cell_type": "code",
   "execution_count": null,
   "id": "7a7b9b9e",
   "metadata": {
    "scrolled": false
   },
   "outputs": [],
   "source": [
    "plt.rcParams['figure.figsize'] = [20, 8]\n",
    "for linha in linhas_maes[0:5]:\n",
    "    grafico = sns.lineplot(data = df_final_tratado[(df_final_tratado['Linha']==linha)][['Ano', 'Mes', 'Volume_Passageiros_BU_VT_DIN']].groupby(['Ano', 'Mes'], as_index=False).sum('Volume_Passageiros_BU_VT_DIN'),\n",
    "                           y = 'Volume_Passageiros_BU_VT_DIN',  x= 'Mes', hue = 'Ano',\n",
    "                           palette='Paired', markers=True, linewidth = 2.5, marker='o')\n",
    "    \n",
    "    grafico.set_xticks(range(13)) \n",
    "    grafico.set_xticklabels(['', 'Jan', 'Fev', 'Mar', 'Abr', 'Mai', 'Jun', 'Jul', 'Ago', 'Set', 'Out', 'Nov', 'Dez'], size=15)\n",
    "\n",
    "    \n",
    "    plt.title(\"Evolução Mensal do Passageiros para a Linha: \" + linha, font = fonte_1)\n",
    "    plt.xlabel(\"Mês\", font = fonte_2)\n",
    "    plt.ylabel(\"Quantidade Total de Passageiros\", font = fonte_2)\n",
    "    plt.legend()\n",
    "    plt.show()"
   ]
  },
  {
   "cell_type": "markdown",
   "id": "dd0ead57",
   "metadata": {},
   "source": [
    "## 3 Decomposição das Séries Temporais"
   ]
  },
  {
   "cell_type": "code",
   "execution_count": null,
   "id": "513212e1",
   "metadata": {},
   "outputs": [],
   "source": [
    "import statsmodels.api as sm\n",
    "from statsmodels.tsa.arima_model import ARIMA\n",
    "from statsmodels.graphics.tsaplots import plot_acf\n",
    "from statsmodels.tsa.stattools import acf, pacf"
   ]
  },
  {
   "cell_type": "code",
   "execution_count": null,
   "id": "f86f152c",
   "metadata": {},
   "outputs": [],
   "source": [
    "class Analise_Serie_Temporal():\n",
    "\n",
    "    def analise_serie_temporal(self, df, linha, params={\"Agregacao\" : \"Mensal\",\n",
    "                                                        \"Modelo\" : \"additive\",\n",
    "                                                        \"Testes\" : [\"decomposicao\", \"pacf\", \"acf\"],\n",
    "                                                        \"Lag\" : 12}):\n",
    "        \n",
    "        #Print\n",
    "        print(\"DECOMPOSIÇÃO DA SÉRIE TEMPORAL PARA A LINHA:\", linha)\n",
    "        \n",
    "        #Crio um df alternativa, cujo index será a Data\n",
    "        df_linha = df[(df['Linha']==linha)][['Data', 'Volume_Passageiros_BU_VT_DIN']].groupby('Data', as_index=False).sum('Volume_Passageiros_BU_VT_DIN')\n",
    "        df_linha = df_linha.set_index('Data').asfreq('D')\n",
    "        \n",
    "        \n",
    "        #Agrego os dados de acordo com os parâmetros estabelecidos\n",
    "        if params['Agregacao'] == \"Mensal\":\n",
    "            df_linha = df_linha.resample('M').sum()\n",
    "            periodo = 12\n",
    "            print('Dados agragados a nível Mensal. Período = 12')\n",
    "        \n",
    "        elif params['Agregacao'] == \"Semanal\":\n",
    "            df_linha = df_linha.resample('W-MON').sum()\n",
    "            periodo = 7\n",
    "            print('Dados agragados a nível Semanal. Período = 7')\n",
    "            \n",
    "        elif params['Agregacao'] == \"Anual\":\n",
    "            df_linha = df_linha.resample('Y').sum()\n",
    "            periodo = 1\n",
    "            print('Dados agragados a nível Anual. Período = 1')\n",
    "            \n",
    "        else:\n",
    "            print(\"Nenhum nível de agregação foi definido\")\n",
    "            print(\"Definindo automaticamente para Mensal...\")\n",
    "            df_linha = df_linha.resample('M').sum()\n",
    "            \n",
    "            \n",
    "        if 'pacf' in params['Testes']:\n",
    "            self.funcao_autocorrelacao(df_linha, params[\"Lag\"])\n",
    "            \n",
    "        if 'decomposicao' in params['Testes']:\n",
    "            dic_decomposicao = self.decomposicao(df_linha, periodo, params[\"Modelo\"])\n",
    "            return dic_decomposicao\n",
    "\n",
    "    \n",
    "    \n",
    "    def decomposicao(self, df_linha, periodo, modelo='additive'):       \n",
    "        plt.rcParams['figure.figsize'] = [20, 16]\n",
    "        '''\n",
    "        Para rodar a decomposição é preciso definir um modelo: Aditivo ou Multiplicativo.\n",
    "        Se o modelo é ADITIVO, então Observed = Trend + Seasonal + Noise\n",
    "        Se MULTIPLICATIVO, então Observed = Trend * Seasonal * Noise\n",
    "        \n",
    "        Assim sendo, usamos o modelo MULTIPLICATIVO quando a variação sazonal é DEPENDENTE da tendência, isto é,\n",
    "        Tendência e Sazonalidade estão caminhando juntas e possuem uma correlação que requer a multiplicação\n",
    "        \n",
    "        O modelo ADITIVO é utilizado quando tendência e sazonalidade são independentes (são oriundas de processos geradores\n",
    "        distintos), e assim são variáveis/fenômenos distintos que não possuem uma relação e NÃO PODEM SER MULTIPLICADOS.        \n",
    "        '''\n",
    "        \n",
    "        decomposicao = sm.tsa.seasonal_decompose(df_linha.Volume_Passageiros_BU_VT_DIN.interpolate(), \n",
    "                                                 model=modelo,\n",
    "                                                 period=periodo)\n",
    "        sazonalidade = decomposicao.seasonal\n",
    "        tendencia = decomposicao.trend\n",
    "        residuo = decomposicao.resid\n",
    "\n",
    "        dic_decomposicao = {\"sazonalidade\" : sazonalidade.values,\n",
    "                            \"tendencia\" : tendencia.values, \n",
    "                            \"residuo\" : residuo.values}\n",
    "\n",
    "        decomposicao.plot()        \n",
    "        plt.show()\n",
    "        \n",
    "        #salvar_dados_decomposicao(decomposicao, sazonalidade, tendencia)\n",
    "        \n",
    "        return dic_decomposicao\n",
    "    \n",
    "    def funcao_autocorrelacao(self, df_linha, lag=12):\n",
    "        plt.rcParams['figure.figsize'] = [10,6]\n",
    "        sm.graphics.tsa.plot_pacf(df_linha.Volume_Passageiros_BU_VT_DIN.interpolate(),\n",
    "                                  lags=lag)"
   ]
  },
  {
   "cell_type": "code",
   "execution_count": null,
   "id": "14a9d77e",
   "metadata": {},
   "outputs": [],
   "source": [
    "analise = Analise_Serie_Temporal()"
   ]
  },
  {
   "cell_type": "code",
   "execution_count": null,
   "id": "d10cf805",
   "metadata": {
    "scrolled": false
   },
   "outputs": [],
   "source": [
    "dic_dados_decompostos = {}\n",
    "\n",
    "for linha in linhas_maes[0:2]:\n",
    "    dic_dados_decompostos[linha] = analise.analise_serie_temporal(df_final_tratado, linha, params={\"Agregacao\" : \"Mensal\",\n",
    "                                                                                                   \"Modelo\" : \"multiplicative\",\n",
    "                                                                                                   \"Testes\" : [\"decomposicao\"],\n",
    "                                                                                                   \"Lag\" : 12})"
   ]
  },
  {
   "cell_type": "code",
   "execution_count": null,
   "id": "ae723b72",
   "metadata": {
    "scrolled": false
   },
   "outputs": [],
   "source": [
    "#ANALISE DE AUTOCORRELAÇÃO PARCIAL\n",
    "for linha in linhas_maes[0:10]:\n",
    "    dic_dados_decompostos[linha] = analise.funcao_autocorrelacao(df_final_tratado, 12)"
   ]
  }
 ],
 "metadata": {
  "kernelspec": {
   "display_name": "Python 3 (ipykernel)",
   "language": "python",
   "name": "python3"
  },
  "language_info": {
   "codemirror_mode": {
    "name": "ipython",
    "version": 3
   },
   "file_extension": ".py",
   "mimetype": "text/x-python",
   "name": "python",
   "nbconvert_exporter": "python",
   "pygments_lexer": "ipython3",
   "version": "3.11.4"
  }
 },
 "nbformat": 4,
 "nbformat_minor": 5
}
