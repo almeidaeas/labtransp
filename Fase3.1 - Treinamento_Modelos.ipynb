{
 "cells": [
  {
   "cell_type": "code",
   "execution_count": 1,
   "id": "628451ac",
   "metadata": {},
   "outputs": [],
   "source": [
    "#Estatísticos\n",
    "from scipy import stats\n",
    "from sklearn.metrics import r2_score\n",
    "from sklearn.metrics import mean_absolute_percentage_error\n",
    "\n",
    "#Manipulação de Dados\n",
    "import pandas as pd\n",
    "import numpy as np\n",
    "from numpy.linalg import LinAlgError\n",
    "\n",
    "#Utilitários\n",
    "import pickle\n",
    "import itertools\n",
    "from datetime import date, timedelta\n",
    "from joblib import Parallel, delayed\n",
    "import warnings\n",
    "\n",
    "#Gráficos\n",
    "import matplotlib.pyplot as plt\n",
    "import seaborn as sns\n",
    "from pylab import rcParams\n",
    "\n",
    "#Ajustes dos Gráficos\n",
    "rcParams['figure.figsize'] = 18, 12\n",
    "\n",
    "from Fase3_Aux_Func import (agrupamento_periodico,\n",
    "                            ajuste_datas_historica,\n",
    "                            conversao_array,\n",
    "                            plot_serie,\n",
    "                            plot_decomposicao,\n",
    "                            suavizacao_simples,\n",
    "                            suavizacao_exponencial,\n",
    "                            holt_winters,\n",
    "                            arma,\n",
    "                            arima_sazonal,\n",
    "                            analise_residuos,\n",
    "                            check_stationarity,\n",
    "                            grid_search_best_model,\n",
    "                            grid_search_best_model_no_parallel)\n",
    "\n",
    "\n",
    "# Suprimir todos os warnings\n",
    "warnings.filterwarnings('ignore')"
   ]
  },
  {
   "cell_type": "code",
   "execution_count": 2,
   "id": "3d77b4a5",
   "metadata": {},
   "outputs": [],
   "source": [
    "global local_origem \n",
    "global data_corte_treinamento\n",
    "\n",
    "local_origem = \"C:/Users/f112596/Desktop/Projetos/DO/Lab Transp/Dados Processados\"\n",
    "data_corte_treinamento = '2023-04-30'"
   ]
  },
  {
   "cell_type": "markdown",
   "id": "81bc8ce7",
   "metadata": {},
   "source": [
    "### 1. Carregramento dos Dados"
   ]
  },
  {
   "cell_type": "code",
   "execution_count": 3,
   "id": "3010506d",
   "metadata": {},
   "outputs": [
    {
     "data": {
      "text/html": [
       "<div>\n",
       "<style scoped>\n",
       "    .dataframe tbody tr th:only-of-type {\n",
       "        vertical-align: middle;\n",
       "    }\n",
       "\n",
       "    .dataframe tbody tr th {\n",
       "        vertical-align: top;\n",
       "    }\n",
       "\n",
       "    .dataframe thead th {\n",
       "        text-align: right;\n",
       "    }\n",
       "</style>\n",
       "<table border=\"1\" class=\"dataframe\">\n",
       "  <thead>\n",
       "    <tr style=\"text-align: right;\">\n",
       "      <th></th>\n",
       "      <th>Sub_Prefeitura</th>\n",
       "      <th>Zona</th>\n",
       "      <th>Ano</th>\n",
       "      <th>Mes</th>\n",
       "      <th>Volume_Passageiros (BU + VT + DIN)</th>\n",
       "      <th>Qtde_Linhas</th>\n",
       "    </tr>\n",
       "  </thead>\n",
       "  <tbody>\n",
       "    <tr>\n",
       "      <th>0</th>\n",
       "      <td>ARICANDUVA-FORMOSA-CARRAO</td>\n",
       "      <td>LESTE</td>\n",
       "      <td>2014</td>\n",
       "      <td>1</td>\n",
       "      <td>856</td>\n",
       "      <td>62</td>\n",
       "    </tr>\n",
       "    <tr>\n",
       "      <th>1</th>\n",
       "      <td>ARICANDUVA-FORMOSA-CARRAO</td>\n",
       "      <td>LESTE</td>\n",
       "      <td>2014</td>\n",
       "      <td>1</td>\n",
       "      <td>2282</td>\n",
       "      <td>62</td>\n",
       "    </tr>\n",
       "    <tr>\n",
       "      <th>2</th>\n",
       "      <td>ARICANDUVA-FORMOSA-CARRAO</td>\n",
       "      <td>LESTE</td>\n",
       "      <td>2014</td>\n",
       "      <td>1</td>\n",
       "      <td>2793</td>\n",
       "      <td>62</td>\n",
       "    </tr>\n",
       "    <tr>\n",
       "      <th>3</th>\n",
       "      <td>ARICANDUVA-FORMOSA-CARRAO</td>\n",
       "      <td>LESTE</td>\n",
       "      <td>2014</td>\n",
       "      <td>1</td>\n",
       "      <td>2818</td>\n",
       "      <td>62</td>\n",
       "    </tr>\n",
       "    <tr>\n",
       "      <th>4</th>\n",
       "      <td>ARICANDUVA-FORMOSA-CARRAO</td>\n",
       "      <td>LESTE</td>\n",
       "      <td>2014</td>\n",
       "      <td>1</td>\n",
       "      <td>2928</td>\n",
       "      <td>62</td>\n",
       "    </tr>\n",
       "  </tbody>\n",
       "</table>\n",
       "</div>"
      ],
      "text/plain": [
       "              Sub_Prefeitura   Zona   Ano  Mes  \\\n",
       "0  ARICANDUVA-FORMOSA-CARRAO  LESTE  2014    1   \n",
       "1  ARICANDUVA-FORMOSA-CARRAO  LESTE  2014    1   \n",
       "2  ARICANDUVA-FORMOSA-CARRAO  LESTE  2014    1   \n",
       "3  ARICANDUVA-FORMOSA-CARRAO  LESTE  2014    1   \n",
       "4  ARICANDUVA-FORMOSA-CARRAO  LESTE  2014    1   \n",
       "\n",
       "   Volume_Passageiros (BU + VT + DIN)  Qtde_Linhas  \n",
       "0                                 856           62  \n",
       "1                                2282           62  \n",
       "2                                2793           62  \n",
       "3                                2818           62  \n",
       "4                                2928           62  "
      ]
     },
     "execution_count": 3,
     "metadata": {},
     "output_type": "execute_result"
    }
   ],
   "source": [
    "'''\n",
    "LEMBRA DE MUDAR O NOME DO ARQUIVO PARA df_final_tratado DEPOIS DE AUTALIZAR O BD_BILHETAGEM E RODAR O DF TRATADO\n",
    "'''\n",
    "df_bilhetagem = pd.read_csv(local_origem + \"/Dataframe Final.csv\", sep=\";\", decimal=\".\" )\n",
    "df_bilhetagem['Volume_Passageiros (BU + VT + DIN)'] = df_bilhetagem['Volume_Passageiros (BU + VT + DIN)'].astype(int)\n",
    "df_bilhetagem.head()"
   ]
  },
  {
   "cell_type": "code",
   "execution_count": 4,
   "id": "79d12a65",
   "metadata": {},
   "outputs": [],
   "source": [
    "'''\n",
    "Irá realizar os ajustes de datas necessários, periorizando por dia, além de quebrar em 2 arquivos\n",
    "'''\n",
    "df_subpref, df_zonas = agrupamento_periodico(df_bilhetagem)"
   ]
  },
  {
   "cell_type": "code",
   "execution_count": 5,
   "id": "59097c2d",
   "metadata": {},
   "outputs": [],
   "source": [
    "#Criação das Listas\n",
    "Sub_Prefeituras = np.unique(df_bilhetagem['Sub_Prefeitura'].astype(str).to_list())\n",
    "Zonas = np.unique(df_bilhetagem['Zona'].astype(str).to_list())"
   ]
  },
  {
   "cell_type": "markdown",
   "id": "da19f764",
   "metadata": {},
   "source": [
    "### 2. Ajuste dos Modelos (Grid Search)"
   ]
  },
  {
   "cell_type": "code",
   "execution_count": 7,
   "id": "bbdcf234",
   "metadata": {},
   "outputs": [
    {
     "name": "stdout",
     "output_type": "stream",
     "text": [
      "Ajustando modelos para Sub-Prefeitura de ARICANDUVA-FORMOSA-CARRAO\n",
      "O intevalo corresponde a 123  datas\n",
      "Séries geradas para o modelo de séries temporais\n",
      "Modelos treinados e salvos com sucesso.\n"
     ]
    }
   ],
   "source": [
    "# Loop para encontrar o melhor modelo para cada 'Sub_Prefeitura' e 'Zona'\n",
    "for sub_prefeitura in Sub_Prefeituras[0:1]:\n",
    "    print(\"Ajustando modelos para Sub-Prefeitura de \" + sub_prefeitura)\n",
    "    best_models_subpref = grid_search_best_model_no_parallel(df_subpref, 'Sub_Prefeitura', sub_prefeitura)\n",
    "    with open(f'best_models_subpref_{sub_prefeitura}.pkl', 'wb') as f:\n",
    "        pickle.dump(best_models_subpref, f)\n",
    "\n",
    "print(\"Modelos treinados e salvos com sucesso.\")        "
   ]
  },
  {
   "cell_type": "code",
   "execution_count": null,
   "id": "67ed125a",
   "metadata": {},
   "outputs": [],
   "source": [
    "for zona in Zonas[0:1]:\n",
    "    print(\"Ajustando modelos para Zona \" + zona)\n",
    "    best_models_zona = grid_search_best_model(df_zonas, 'Zona', zona)\n",
    "    with open(f'best_models_zona_{zona}.pkl', 'wb') as f:\n",
    "        pickle.dump(best_models_zona, f)\n",
    "\n",
    "print(\"Modelos treinados e salvos com sucesso.\")"
   ]
  },
  {
   "cell_type": "code",
   "execution_count": null,
   "id": "b9e33f24",
   "metadata": {},
   "outputs": [],
   "source": []
  },
  {
   "cell_type": "markdown",
   "id": "caa1d379",
   "metadata": {},
   "source": [
    "### DEBBUG"
   ]
  },
  {
   "cell_type": "code",
   "execution_count": 10,
   "id": "dcb4b331",
   "metadata": {},
   "outputs": [],
   "source": [
    "import pickle\n",
    "\n",
    "# Carregar os modelos a partir do arquivo pickle\n",
    "with open('best_models_subpref_ARICANDUVA-FORMOSA-CARRAO.pkl', 'rb') as f:\n",
    "    loaded_models = pickle.load(f)\n",
    "\n",
    "# Acessar o modelo SimpleExpSmoothing\n",
    "simple_exp_smoothing_model = loaded_models['SimpleExpSmoothing']"
   ]
  },
  {
   "cell_type": "code",
   "execution_count": 11,
   "id": "731a936a",
   "metadata": {},
   "outputs": [
    {
     "name": "stdout",
     "output_type": "stream",
     "text": [
      "                               SimpleExpSmoothing Model Results                               \n",
      "==============================================================================================\n",
      "Dep. Variable:     Volume_Passageiros (BU + VT + DIN)   No. Observations:                  119\n",
      "Model:                             SimpleExpSmoothing   SSE                    40462718989.207\n",
      "Optimized:                                       True   AIC                           2341.698\n",
      "Trend:                                           None   BIC                           2347.257\n",
      "Seasonal:                                        None   AICC                          2342.049\n",
      "Seasonal Periods:                                None   Date:                 Wed, 05 Mar 2025\n",
      "Box-Cox:                                        False   Time:                         18:33:58\n",
      "Box-Cox Coeff.:                                  None                                         \n",
      "==============================================================================\n",
      "                       coeff                 code              optimized      \n",
      "------------------------------------------------------------------------------\n",
      "smoothing_level            0.1000000                alpha                False\n",
      "initial_level             -584.57507                  l.0                 True\n",
      "------------------------------------------------------------------------------\n"
     ]
    }
   ],
   "source": [
    "print(simple_exp_smoothing_model.summary())"
   ]
  },
  {
   "cell_type": "code",
   "execution_count": null,
   "id": "afd7b0a7",
   "metadata": {},
   "outputs": [],
   "source": [
    "simple_exp_smoothing_model.forecast(12)"
   ]
  },
  {
   "cell_type": "code",
   "execution_count": null,
   "id": "7725898e",
   "metadata": {},
   "outputs": [],
   "source": [
    "\n",
    "\n",
    "forecast = simple_exp_smoothing_model.forecast(steps=len(y_teste))\n",
    "mape = mean_absolute_percentage_error(y_teste, forecast)\n",
    "print(f\"MAPE: {mape}\")"
   ]
  },
  {
   "cell_type": "code",
   "execution_count": null,
   "id": "462e15b2",
   "metadata": {},
   "outputs": [],
   "source": [
    "from joblib import Parallel, delayed\n",
    "import statsmodels.api as sm\n",
    "from statsmodels.tsa.arima.model import ARIMA\n",
    "from statsmodels.tsa.holtwinters import SimpleExpSmoothing\n",
    "from statsmodels.tsa.holtwinters import ExponentialSmoothing\n",
    "from statsmodels.tsa.holtwinters import Holt\n",
    "from statsmodels.graphics.tsaplots import plot_acf, plot_pacf\n",
    "from statsmodels.tsa.stattools import acf, pacf\n",
    "from statsmodels.tsa.seasonal import seasonal_decompose\n",
    "from statsmodels.tsa.stattools import adfuller"
   ]
  },
  {
   "cell_type": "code",
   "execution_count": 12,
   "id": "a79d8ea8",
   "metadata": {},
   "outputs": [
    {
     "name": "stdout",
     "output_type": "stream",
     "text": [
      "O intevalo corresponde a 123  datas\n",
      "Séries geradas para o modelo de séries temporais\n"
     ]
    }
   ],
   "source": [
    "Serie_Historica, Serie_Treinamento, Serie_Teste = ajuste_datas_historica(df_subpref,\n",
    "                                                                         coluna='Sub_Prefeitura',\n",
    "                                                                         param='ARICANDUVA-FORMOSA-CARRAO')\n",
    "\n",
    "  # Converte para arrays\n",
    "y, y_treinamento, y_teste, y_treinamento_exp = conversao_array(Serie_Historica, Serie_Treinamento, Serie_Teste)"
   ]
  },
  {
   "cell_type": "code",
   "execution_count": 25,
   "id": "fdd6c889",
   "metadata": {},
   "outputs": [],
   "source": [
    "import statsmodels.api as sm\n",
    "from statsmodels.tsa.arima.model import ARIMA\n",
    "from statsmodels.tsa.holtwinters import SimpleExpSmoothing\n",
    "from statsmodels.tsa.holtwinters import ExponentialSmoothing\n",
    "from statsmodels.tsa.holtwinters import Holt\n",
    "from statsmodels.graphics.tsaplots import plot_acf, plot_pacf\n",
    "from statsmodels.tsa.stattools import acf, pacf\n",
    "from statsmodels.tsa.seasonal import seasonal_decompose\n",
    "from statsmodels.tsa.stattools import adfuller\n",
    "import gc"
   ]
  },
  {
   "cell_type": "code",
   "execution_count": 33,
   "id": "99a7f730",
   "metadata": {},
   "outputs": [],
   "source": [
    "# Função para verificar a estacionaridade\n",
    "def check_stationarity(y):\n",
    "    result = adfuller(y)\n",
    "    return result[1] < 0.05\n",
    "\n",
    "# Função para realizar o grid search e encontrar o melhor modelo\n",
    "def grid_search_best_model(df, \n",
    "                           column, \n",
    "                           param):\n",
    "    # Normaliza as datas e divide em conjuntos de treinamento e teste\n",
    "    Serie_Historica, Serie_Treinamento, Serie_Teste = ajuste_datas_historica(df, coluna=column, param=param)\n",
    "    \n",
    "    # Converte para arrays\n",
    "    y, y_treinamento, y_teste, y_treinamento_exp = conversao_array(Serie_Historica, Serie_Treinamento, Serie_Teste)\n",
    "    \n",
    "    # Verifica a estacionaridade e diferencia se necessário\n",
    "    if not check_stationarity(y_treinamento):\n",
    "        y_treinamento = y_treinamento.diff().dropna()\n",
    "        y_teste = y_teste.diff().dropna()\n",
    "    \n",
    "    \n",
    "    best_models = {}\n",
    "    \n",
    "    # Função auxiliar para grid search\n",
    "    def evaluate_model(model, y_treinamento, y_teste):\n",
    "        gc.collect() \n",
    "        forecast = model.forecast(len(y_teste))\n",
    "        mape = mean_absolute_percentage_error(y_teste, forecast)\n",
    "        return mape, model\n",
    "    \n",
    "    # Grid search para Simple Exponential Smoothing\n",
    "    gc.collect()  # Coleta de lixo para liberar memória    \n",
    "    results = []\n",
    "    for alpha in np.arange(0.1, 2.1, 0.1):\n",
    "        model = SimpleExpSmoothing(y_treinamento).fit(smoothing_level=alpha)\n",
    "        mape, fitted_model = evaluate_model(model, y_treinamento, y_teste)\n",
    "        results.append((mape, fitted_model))\n",
    "        print(f\"Alpha: {alpha}, MAPE: {mape}, Params: {fitted_model.params}\")\n",
    "    best_mape, best_model = min(results, key=lambda x: x[0])\n",
    "    best_models['SimpleExpSmoothing'] = best_model\n",
    "    gc.collect()  # Coleta de lixo para liberar memória\n",
    "    \n",
    "    # Grid search para Exponential Smoothing\n",
    "    results = Parallel(n_jobs=-1)(delayed(evaluate_model)(ExponentialSmoothing(y_treinamento, trend='additive', seasonal='additive', seasonal_periods=12).fit(smoothing_level=alpha), y_treinamento, y_teste) for alpha in np.arange(0.1, 2.1, 0.1))\n",
    "    best_mape, best_model = min(results, key=lambda x: x[0])\n",
    "    best_models['ExponentialSmoothing'] = best_model\n",
    "    \n",
    "    # Grid search para Holt-Winters\n",
    "    results = Parallel(n_jobs=-1)(delayed(evaluate_model)(Holt(y_treinamento).fit(smoothing_level=alpha), y_treinamento, y_teste) for alpha in np.arange(0.1, 2.1, 0.1))\n",
    "    best_mape, best_model = min(results, key=lambda x: x[0])\n",
    "    best_models['HoltWinters'] = best_model\n",
    "    \n",
    "    # Grid search para ARIMA e SARIMA\n",
    "    p = d = q = range(0, 2)\n",
    "    pdq = list(itertools.product(p, d, q))\n",
    "    seasonal_pdq = [(x[0], x[1], x[2], 12) for x in pdq]\n",
    "    \n",
    "    # Melhor ARMA\n",
    "    results = Parallel(n_jobs=-1)(delayed(evaluate_model)(ARIMA(y_treinamento, order=(param[0], 0, param[2])).fit(), y_treinamento, y_teste) for param in pdq)\n",
    "    best_mape, best_model = min(results, key=lambda x: x[0])\n",
    "    best_models['ARMA'] = best_model    \n",
    "    \n",
    "\n",
    "    def evaluate_arima(param, y_treinamento, y_teste):\n",
    "        try:\n",
    "            model = ARIMA(y_treinamento, \n",
    "                          order=param,\n",
    "                          enforce_stationarity=True,\n",
    "                          enforce_invertibility=False).fit()\n",
    "            \n",
    "            forecast = model.forecast(len(y_teste))\n",
    "            mape = mean_absolute_percentage_error(y_teste, forecast)\n",
    "            return mape, model\n",
    "        except (LinAlgError, ValueError):\n",
    "            return float('inf'), None\n",
    "    \n",
    "    # Melhor ARIMA\n",
    "    results = Parallel(n_jobs=-1)(delayed(evaluate_arima)(param,y_treinamento, y_teste) for param in pdq)\n",
    "    best_mape, best_model = min(results, key=lambda x: x[0])\n",
    "    best_models['ARIMA'] = best_model\n",
    "    \n",
    "    \n",
    "    def evaluate_sarima(param, param_seasonal, y_treinamento, y_teste):\n",
    "        try:\n",
    "            model = sm.tsa.statespace.SARIMAX(y_treinamento, \n",
    "                                              order=param, \n",
    "                                              seasonal_order=param_seasonal, \n",
    "                                              enforce_stationarity=True, enforce_invertibility=False).fit(disp=0)\n",
    "            \n",
    "            forecast = model.forecast(len(y_teste))\n",
    "            mape = mean_absolute_percentage_error(y_teste, forecast)\n",
    "            return mape, model\n",
    "        except (LinAlgError, ValueError):\n",
    "            return float('inf'), None\n",
    "        \n",
    "        \n",
    "    # Melhor SARIMA\n",
    "    results = Parallel(n_jobs=-1)(delayed(evaluate_sarima)(param, param_seasonal, y_treinamento, y_teste) for param in pdq for param_seasonal in seasonal_pdq)\n",
    "    best_mape, best_model = min(results, key=lambda x: x[0])\n",
    "    best_models['SARIMA'] = best_model    \n",
    "    \n",
    "    \n",
    "    return best_models\n"
   ]
  },
  {
   "cell_type": "code",
   "execution_count": 34,
   "id": "868e9b36",
   "metadata": {},
   "outputs": [
    {
     "name": "stdout",
     "output_type": "stream",
     "text": [
      "O intevalo corresponde a 123  datas\n",
      "Séries geradas para o modelo de séries temporais\n",
      "Alpha: 0.1, MAPE: 0.9845237002142171, Params: {'smoothing_level': 0.1, 'smoothing_trend': nan, 'smoothing_seasonal': nan, 'damping_trend': nan, 'initial_level': -584.5750741839752, 'initial_trend': nan, 'initial_seasons': array([], dtype=float64), 'use_boxcox': False, 'lamda': None, 'remove_bias': False}\n",
      "Alpha: 0.2, MAPE: 1.8247255736375116, Params: {'smoothing_level': 0.2, 'smoothing_trend': nan, 'smoothing_seasonal': nan, 'damping_trend': nan, 'initial_level': -1569.7514120040446, 'initial_trend': nan, 'initial_seasons': array([], dtype=float64), 'use_boxcox': False, 'lamda': None, 'remove_bias': False}\n",
      "Alpha: 0.30000000000000004, MAPE: 4.521212102239824, Params: {'smoothing_level': 0.30000000000000004, 'smoothing_trend': nan, 'smoothing_seasonal': nan, 'damping_trend': nan, 'initial_level': -3086.596404255469, 'initial_trend': nan, 'initial_seasons': array([], dtype=float64), 'use_boxcox': False, 'lamda': None, 'remove_bias': False}\n",
      "Alpha: 0.4, MAPE: 6.883701747815881, Params: {'smoothing_level': 0.4, 'smoothing_trend': nan, 'smoothing_seasonal': nan, 'damping_trend': nan, 'initial_level': -4838.427026037873, 'initial_trend': nan, 'initial_seasons': array([], dtype=float64), 'use_boxcox': False, 'lamda': None, 'remove_bias': False}\n",
      "Alpha: 0.5, MAPE: 8.866115898090698, Params: {'smoothing_level': 0.5, 'smoothing_trend': nan, 'smoothing_seasonal': nan, 'damping_trend': nan, 'initial_level': -6514.533559456897, 'initial_trend': nan, 'initial_seasons': array([], dtype=float64), 'use_boxcox': False, 'lamda': None, 'remove_bias': False}\n",
      "Alpha: 0.6, MAPE: 10.676281655500159, Params: {'smoothing_level': 0.6, 'smoothing_trend': nan, 'smoothing_seasonal': nan, 'damping_trend': nan, 'initial_level': -8257.388384879483, 'initial_trend': nan, 'initial_seasons': array([], dtype=float64), 'use_boxcox': False, 'lamda': None, 'remove_bias': False}\n",
      "Alpha: 0.7000000000000001, MAPE: 12.402535955961149, Params: {'smoothing_level': 0.7000000000000001, 'smoothing_trend': nan, 'smoothing_seasonal': nan, 'damping_trend': nan, 'initial_level': -9979.256687524226, 'initial_trend': nan, 'initial_seasons': array([], dtype=float64), 'use_boxcox': False, 'lamda': None, 'remove_bias': False}\n",
      "Alpha: 0.8, MAPE: 14.031708281628095, Params: {'smoothing_level': 0.8, 'smoothing_trend': nan, 'smoothing_seasonal': nan, 'damping_trend': nan, 'initial_level': -11790.708185916412, 'initial_trend': nan, 'initial_seasons': array([], dtype=float64), 'use_boxcox': False, 'lamda': None, 'remove_bias': False}\n",
      "Alpha: 0.9, MAPE: 15.509670869370899, Params: {'smoothing_level': 0.9, 'smoothing_trend': nan, 'smoothing_seasonal': nan, 'damping_trend': nan, 'initial_level': -13776.040209834046, 'initial_trend': nan, 'initial_seasons': array([], dtype=float64), 'use_boxcox': False, 'lamda': None, 'remove_bias': False}\n",
      "Alpha: 1.0, MAPE: 16.763794327998284, Params: {'smoothing_level': 1.0, 'smoothing_trend': nan, 'smoothing_seasonal': nan, 'damping_trend': nan, 'initial_level': -16045.0, 'initial_trend': nan, 'initial_seasons': array([], dtype=float64), 'use_boxcox': False, 'lamda': None, 'remove_bias': False}\n",
      "Alpha: 1.1, MAPE: 17.705503526331405, Params: {'smoothing_level': 1.1, 'smoothing_trend': nan, 'smoothing_seasonal': nan, 'damping_trend': nan, 'initial_level': -18621.81962817871, 'initial_trend': nan, 'initial_seasons': array([], dtype=float64), 'use_boxcox': False, 'lamda': None, 'remove_bias': False}\n",
      "Alpha: 1.2000000000000002, MAPE: 18.22871036355536, Params: {'smoothing_level': 1.2000000000000002, 'smoothing_trend': nan, 'smoothing_seasonal': nan, 'damping_trend': nan, 'initial_level': -21671.773472316032, 'initial_trend': nan, 'initial_seasons': array([], dtype=float64), 'use_boxcox': False, 'lamda': None, 'remove_bias': False}\n",
      "Alpha: 1.3000000000000003, MAPE: 18.20861527757967, Params: {'smoothing_level': 1.3000000000000003, 'smoothing_trend': nan, 'smoothing_seasonal': nan, 'damping_trend': nan, 'initial_level': -25298.848077831746, 'initial_trend': nan, 'initial_seasons': array([], dtype=float64), 'use_boxcox': False, 'lamda': None, 'remove_bias': False}\n",
      "Alpha: 1.4000000000000001, MAPE: 17.510004067710817, Params: {'smoothing_level': 1.4000000000000001, 'smoothing_trend': nan, 'smoothing_seasonal': nan, 'damping_trend': nan, 'initial_level': -29875.741258115966, 'initial_trend': nan, 'initial_seasons': array([], dtype=float64), 'use_boxcox': False, 'lamda': None, 'remove_bias': False}\n",
      "Alpha: 1.5000000000000002, MAPE: 16.081385241991406, Params: {'smoothing_level': 1.5000000000000002, 'smoothing_trend': nan, 'smoothing_seasonal': nan, 'damping_trend': nan, 'initial_level': -36127.095196398426, 'initial_trend': nan, 'initial_seasons': array([], dtype=float64), 'use_boxcox': False, 'lamda': None, 'remove_bias': False}\n",
      "Alpha: 1.6, MAPE: 14.619800128174449, Params: {'smoothing_level': 1.6, 'smoothing_trend': nan, 'smoothing_seasonal': nan, 'damping_trend': nan, 'initial_level': -44683.2569372623, 'initial_trend': nan, 'initial_seasons': array([], dtype=float64), 'use_boxcox': False, 'lamda': None, 'remove_bias': False}\n",
      "Alpha: 1.7000000000000002, MAPE: 18.08291685148643, Params: {'smoothing_level': 1.7000000000000002, 'smoothing_trend': nan, 'smoothing_seasonal': nan, 'damping_trend': nan, 'initial_level': -55979.251245736654, 'initial_trend': nan, 'initial_seasons': array([], dtype=float64), 'use_boxcox': False, 'lamda': None, 'remove_bias': False}\n",
      "Alpha: 1.8000000000000003, MAPE: 50.334043036800395, Params: {'smoothing_level': 1.8000000000000003, 'smoothing_trend': nan, 'smoothing_seasonal': nan, 'damping_trend': nan, 'initial_level': -71813.75911273429, 'initial_trend': nan, 'initial_seasons': array([], dtype=float64), 'use_boxcox': False, 'lamda': None, 'remove_bias': False}\n",
      "Alpha: 1.9000000000000001, MAPE: 202.3274041456676, Params: {'smoothing_level': 1.9000000000000001, 'smoothing_trend': nan, 'smoothing_seasonal': nan, 'damping_trend': nan, 'initial_level': -84258.81505376345, 'initial_trend': nan, 'initial_seasons': array([], dtype=float64), 'use_boxcox': False, 'lamda': None, 'remove_bias': False}\n",
      "Alpha: 2.0, MAPE: 458.3813196697658, Params: {'smoothing_level': 2.0, 'smoothing_trend': nan, 'smoothing_seasonal': nan, 'damping_trend': nan, 'initial_level': -134516.4407270112, 'initial_trend': nan, 'initial_seasons': array([], dtype=float64), 'use_boxcox': False, 'lamda': None, 'remove_bias': False}\n"
     ]
    }
   ],
   "source": [
    "result = grid_search_best_model(df_subpref, 'Sub_Prefeitura', 'ARICANDUVA-FORMOSA-CARRAO')"
   ]
  },
  {
   "cell_type": "code",
   "execution_count": 35,
   "id": "7e77c089",
   "metadata": {},
   "outputs": [
    {
     "data": {
      "text/html": [
       "<table class=\"simpletable\">\n",
       "<caption>SimpleExpSmoothing Model Results</caption>\n",
       "<tr>\n",
       "  <th>Dep. Variable:</th>    <td>Volume_Passageiros (BU + VT + DIN)</td> <th>  No. Observations:  </th>        <td>119</td>      \n",
       "</tr>\n",
       "<tr>\n",
       "  <th>Model:</th>                    <td>SimpleExpSmoothing</td>         <th>  SSE                </th>  <td>40462718989.207</td>\n",
       "</tr>\n",
       "<tr>\n",
       "  <th>Optimized:</th>                       <td>True</td>                <th>  AIC                </th>     <td>2341.698</td>    \n",
       "</tr>\n",
       "<tr>\n",
       "  <th>Trend:</th>                           <td>None</td>                <th>  BIC                </th>     <td>2347.257</td>    \n",
       "</tr>\n",
       "<tr>\n",
       "  <th>Seasonal:</th>                        <td>None</td>                <th>  AICC               </th>     <td>2342.049</td>    \n",
       "</tr>\n",
       "<tr>\n",
       "  <th>Seasonal Periods:</th>                <td>None</td>                <th>  Date:              </th> <td>Wed, 05 Mar 2025</td>\n",
       "</tr>\n",
       "<tr>\n",
       "  <th>Box-Cox:</th>                         <td>False</td>               <th>  Time:              </th>     <td>18:39:32</td>    \n",
       "</tr>\n",
       "<tr>\n",
       "  <th>Box-Cox Coeff.:</th>                  <td>None</td>                <th>                     </th>         <td> </td>       \n",
       "</tr>\n",
       "</table>\n",
       "<table class=\"simpletable\">\n",
       "<tr>\n",
       "         <td></td>                 <th>coeff</th>                <th>code</th>               <th>optimized</th>     \n",
       "</tr>\n",
       "<tr>\n",
       "  <th>smoothing_level</th> <td>           0.1000000</td> <td>               alpha</td> <td>               False</td>\n",
       "</tr>\n",
       "<tr>\n",
       "  <th>initial_level</th>   <td>          -584.57507</td> <td>                 l.0</td> <td>                True</td>\n",
       "</tr>\n",
       "</table>"
      ],
      "text/plain": [
       "<class 'statsmodels.iolib.summary.Summary'>\n",
       "\"\"\"\n",
       "                               SimpleExpSmoothing Model Results                               \n",
       "==============================================================================================\n",
       "Dep. Variable:     Volume_Passageiros (BU + VT + DIN)   No. Observations:                  119\n",
       "Model:                             SimpleExpSmoothing   SSE                    40462718989.207\n",
       "Optimized:                                       True   AIC                           2341.698\n",
       "Trend:                                           None   BIC                           2347.257\n",
       "Seasonal:                                        None   AICC                          2342.049\n",
       "Seasonal Periods:                                None   Date:                 Wed, 05 Mar 2025\n",
       "Box-Cox:                                        False   Time:                         18:39:32\n",
       "Box-Cox Coeff.:                                  None                                         \n",
       "==============================================================================\n",
       "                       coeff                 code              optimized      \n",
       "------------------------------------------------------------------------------\n",
       "smoothing_level            0.1000000                alpha                False\n",
       "initial_level             -584.57507                  l.0                 True\n",
       "------------------------------------------------------------------------------\n",
       "\"\"\""
      ]
     },
     "execution_count": 35,
     "metadata": {},
     "output_type": "execute_result"
    }
   ],
   "source": [
    "result['SimpleExpSmoothing'].summary()"
   ]
  },
  {
   "cell_type": "code",
   "execution_count": 32,
   "id": "07349590",
   "metadata": {},
   "outputs": [
    {
     "name": "stdout",
     "output_type": "stream",
     "text": [
      "{'smoothing_level': 0.1, 'smoothing_trend': nan, 'smoothing_seasonal': nan, 'damping_trend': nan, 'initial_level': -584.5750741839752, 'initial_trend': nan, 'initial_seasons': array([], dtype=float64), 'use_boxcox': False, 'lamda': None, 'remove_bias': False}\n"
     ]
    }
   ],
   "source": [
    "print(result['SimpleExpSmoothing'].params)"
   ]
  },
  {
   "cell_type": "code",
   "execution_count": null,
   "id": "333f950d",
   "metadata": {},
   "outputs": [],
   "source": [
    "best_models = {}\n",
    "results = Parallel(n_jobs=-1)(delayed(evaluate_model)(SimpleExpSmoothing(y_treinamento).fit(smoothing_level=alpha), y_treinamento, y_teste) for alpha in np.arange(0.1, 2.1, 0.1))\n",
    "best_mape, best_model = min(results, key=lambda x: x[0])\n",
    "\n",
    "best_models['SimpleExpSmoothing'] = best_model"
   ]
  },
  {
   "cell_type": "code",
   "execution_count": null,
   "id": "1af7cab2",
   "metadata": {},
   "outputs": [],
   "source": [
    "print(best_models['SimpleExpSmoothing'].summary())"
   ]
  },
  {
   "cell_type": "code",
   "execution_count": null,
   "id": "69fb2d95",
   "metadata": {},
   "outputs": [],
   "source": [
    "best_models['SimpleExpSmoothing'].forecast(12)"
   ]
  },
  {
   "cell_type": "code",
   "execution_count": null,
   "id": "02e06cfb",
   "metadata": {},
   "outputs": [],
   "source": [
    "print(result['SimpleExpSmoothing'].summary())"
   ]
  },
  {
   "cell_type": "code",
   "execution_count": null,
   "id": "83776aae",
   "metadata": {},
   "outputs": [],
   "source": [
    "result['SimpleExpSmoothing'].forecast(12)"
   ]
  },
  {
   "cell_type": "code",
   "execution_count": null,
   "id": "2cdc8578",
   "metadata": {},
   "outputs": [],
   "source": [
    "forecast = result['SimpleExpSmoothing'].forecast(len(y_teste))\n",
    "mape = mean_absolute_percentage_error(y_teste, forecast)\n",
    "mape"
   ]
  },
  {
   "cell_type": "code",
   "execution_count": null,
   "id": "c1a6407c",
   "metadata": {},
   "outputs": [],
   "source": [
    "result['SimpleExpSmoothing']."
   ]
  },
  {
   "cell_type": "code",
   "execution_count": null,
   "id": "6f9e37f2",
   "metadata": {},
   "outputs": [],
   "source": [
    "forecast = best_models['SimpleExpSmoothing'].forecast(len(y_teste))\n",
    "mape = mean_absolute_percentage_error(y_teste, forecast)\n",
    "mape"
   ]
  },
  {
   "cell_type": "code",
   "execution_count": null,
   "id": "8a7029fd",
   "metadata": {},
   "outputs": [],
   "source": [
    "# Grid search para Simple Exponential Smoothing\n",
    "results = Parallel(n_jobs=-1)(delayed(evaluate_model)(SimpleExpSmoothing(y_treinamento).fit(smoothing_level=alpha), y_treinamento, y_teste) for alpha in np.arange(0.05, 2.1, 0.05))\n",
    "best_mape, best_model = min(results, key=lambda x: x[0])\n",
    "#best_models['SimpleExpSmoothing'] = best_model"
   ]
  },
  {
   "cell_type": "code",
   "execution_count": null,
   "id": "4989b7b6",
   "metadata": {},
   "outputs": [],
   "source": [
    "best_mape, best_model = min(results, key=lambda x: x[0])"
   ]
  },
  {
   "cell_type": "code",
   "execution_count": null,
   "id": "bf8994e2",
   "metadata": {},
   "outputs": [],
   "source": [
    "results"
   ]
  },
  {
   "cell_type": "code",
   "execution_count": null,
   "id": "c8b0420b",
   "metadata": {},
   "outputs": [],
   "source": [
    "best_mape"
   ]
  },
  {
   "cell_type": "code",
   "execution_count": null,
   "id": "0f79ea1c",
   "metadata": {},
   "outputs": [],
   "source": [
    "print(best_model.summary())"
   ]
  },
  {
   "cell_type": "code",
   "execution_count": null,
   "id": "0fe4a2e7",
   "metadata": {},
   "outputs": [],
   "source": [
    "best_model.predict(12)"
   ]
  },
  {
   "cell_type": "code",
   "execution_count": null,
   "id": "5b89c25d",
   "metadata": {},
   "outputs": [],
   "source": []
  },
  {
   "cell_type": "code",
   "execution_count": null,
   "id": "b404bb31",
   "metadata": {},
   "outputs": [],
   "source": [
    "fcst = best_model.forecast(12)"
   ]
  },
  {
   "cell_type": "code",
   "execution_count": null,
   "id": "4146f8fc",
   "metadata": {},
   "outputs": [],
   "source": [
    "np.pad(fcst, (max_len - len(fcst), 0), 'constant', constant_values=np.nan)"
   ]
  },
  {
   "cell_type": "code",
   "execution_count": null,
   "id": "03db3f78",
   "metadata": {},
   "outputs": [],
   "source": [
    "def load_models(file_path):\n",
    "    '''\n",
    "    Função utilizada para carregar os pickles \n",
    "    contendo os modelos de forecast\n",
    "    '''    \n",
    "    with open(file_path, 'rb') as f:\n",
    "        models = pickle.load(f)\n",
    "    return models"
   ]
  },
  {
   "cell_type": "code",
   "execution_count": null,
   "id": "c7b22287",
   "metadata": {},
   "outputs": [],
   "source": [
    "# Dicionário com os caminhos dos arquivos pickle dos modelos\n",
    "model_file_subpref = 'best_models_subpref_{0}.pkl'\n",
    "model_file_zona = 'best_models_zona_{0}.pkl'"
   ]
  },
  {
   "cell_type": "code",
   "execution_count": null,
   "id": "a642fde5",
   "metadata": {},
   "outputs": [],
   "source": [
    "param='ARICANDUVA-FORMOSA-CARRAO'\n",
    "# Carregar os modelos a partir do arquivo pickle\n",
    "models = load_models(model_file_subpref.format(param))"
   ]
  },
  {
   "cell_type": "code",
   "execution_count": null,
   "id": "6e1a0809",
   "metadata": {},
   "outputs": [],
   "source": [
    "# Fazer o forecast de 12 meses para cada modelo\n",
    "print(f\"Gerando forecasts\")\n",
    "forecasts = {model_name: model.forecast(steps=12) for model_name, model in models.items()}"
   ]
  },
  {
   "cell_type": "code",
   "execution_count": null,
   "id": "b798b391",
   "metadata": {},
   "outputs": [],
   "source": [
    "with open('best_models_subpref_ARICANDUVA-FORMOSA-CARRAO.pkl', 'wb') as f:\n",
    "    pickle.dump(best_models, f)"
   ]
  },
  {
   "cell_type": "code",
   "execution_count": null,
   "id": "194bde57",
   "metadata": {},
   "outputs": [],
   "source": [
    "f"
   ]
  }
 ],
 "metadata": {
  "kernelspec": {
   "display_name": "Python 3",
   "language": "python",
   "name": "python3"
  },
  "language_info": {
   "codemirror_mode": {
    "name": "ipython",
    "version": 3
   },
   "file_extension": ".py",
   "mimetype": "text/x-python",
   "name": "python",
   "nbconvert_exporter": "python",
   "pygments_lexer": "ipython3",
   "version": "3.8.8"
  }
 },
 "nbformat": 4,
 "nbformat_minor": 5
}
