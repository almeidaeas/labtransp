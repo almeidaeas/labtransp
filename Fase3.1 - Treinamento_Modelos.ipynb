{
 "cells": [
  {
   "cell_type": "code",
   "execution_count": 10,
   "id": "628451ac",
   "metadata": {},
   "outputs": [],
   "source": [
    "#Estatísticos\n",
    "from scipy import stats\n",
    "from sklearn.metrics import r2_score\n",
    "from sklearn.metrics import mean_absolute_percentage_error\n",
    "\n",
    "#Manipulação de Dados\n",
    "import pandas as pd\n",
    "import numpy as np\n",
    "from numpy.linalg import LinAlgError\n",
    "\n",
    "#Utilitários\n",
    "import pickle\n",
    "import itertools\n",
    "from datetime import date, timedelta\n",
    "from joblib import Parallel, delayed\n",
    "import warnings\n",
    "\n",
    "#Gráficos\n",
    "import matplotlib.pyplot as plt\n",
    "import seaborn as sns\n",
    "from pylab import rcParams\n",
    "\n",
    "#Ajustes dos Gráficos\n",
    "rcParams['figure.figsize'] = 18, 12\n",
    "\n",
    "from Fase3_Aux_Func import (agrupamento_periodico,\n",
    "                            ajuste_datas_historica,\n",
    "                            conversao_array,\n",
    "                            plot_serie,\n",
    "                            plot_decomposicao,\n",
    "                            suavizacao_simples,\n",
    "                            suavizacao_exponencial,\n",
    "                            holt_winters,\n",
    "                            arma,\n",
    "                            arima_sazonal,\n",
    "                            analise_residuos,\n",
    "                            check_stationarity,\n",
    "                            grid_search_best_model,\n",
    "                            grid_search_best_model_no_parallel)\n",
    "\n",
    "\n",
    "# Suprimir todos os warnings\n",
    "warnings.filterwarnings('ignore')"
   ]
  },
  {
   "cell_type": "code",
   "execution_count": 11,
   "id": "3d77b4a5",
   "metadata": {},
   "outputs": [],
   "source": [
    "global local_origem \n",
    "global data_corte_treinamento\n",
    "\n",
    "local_origem = \"C:/Lab Transp/Dados Processados/\"\n",
    "local_destino = \"C:/Lab Transp/Dados Processados/\"\n",
    "data_corte_treinamento = '2024-06-30'"
   ]
  },
  {
   "cell_type": "markdown",
   "id": "81bc8ce7",
   "metadata": {},
   "source": [
    "### 1. Carregramento dos Dados"
   ]
  },
  {
   "cell_type": "code",
   "execution_count": 12,
   "id": "3010506d",
   "metadata": {},
   "outputs": [
    {
     "data": {
      "text/html": [
       "<div>\n",
       "<style scoped>\n",
       "    .dataframe tbody tr th:only-of-type {\n",
       "        vertical-align: middle;\n",
       "    }\n",
       "\n",
       "    .dataframe tbody tr th {\n",
       "        vertical-align: top;\n",
       "    }\n",
       "\n",
       "    .dataframe thead th {\n",
       "        text-align: right;\n",
       "    }\n",
       "</style>\n",
       "<table border=\"1\" class=\"dataframe\">\n",
       "  <thead>\n",
       "    <tr style=\"text-align: right;\">\n",
       "      <th></th>\n",
       "      <th>Ano</th>\n",
       "      <th>Mes</th>\n",
       "      <th>Cidade</th>\n",
       "      <th>Zona</th>\n",
       "      <th>Sub_Prefeitura</th>\n",
       "      <th>Volume_Passageiros_BU_VT_DIN</th>\n",
       "    </tr>\n",
       "  </thead>\n",
       "  <tbody>\n",
       "    <tr>\n",
       "      <th>0</th>\n",
       "      <td>2014</td>\n",
       "      <td>1</td>\n",
       "      <td>TOTAL</td>\n",
       "      <td>CENTRO</td>\n",
       "      <td>SE</td>\n",
       "      <td>19599200</td>\n",
       "    </tr>\n",
       "    <tr>\n",
       "      <th>1</th>\n",
       "      <td>2014</td>\n",
       "      <td>1</td>\n",
       "      <td>TOTAL</td>\n",
       "      <td>LESTE</td>\n",
       "      <td>ARICANDUVA-FORMOSA-CARRAO</td>\n",
       "      <td>1234500</td>\n",
       "    </tr>\n",
       "    <tr>\n",
       "      <th>2</th>\n",
       "      <td>2014</td>\n",
       "      <td>1</td>\n",
       "      <td>TOTAL</td>\n",
       "      <td>LESTE</td>\n",
       "      <td>ERMELINO MATARAZZO</td>\n",
       "      <td>37373</td>\n",
       "    </tr>\n",
       "    <tr>\n",
       "      <th>3</th>\n",
       "      <td>2014</td>\n",
       "      <td>1</td>\n",
       "      <td>TOTAL</td>\n",
       "      <td>LESTE</td>\n",
       "      <td>GUAIANASES</td>\n",
       "      <td>2652418</td>\n",
       "    </tr>\n",
       "    <tr>\n",
       "      <th>4</th>\n",
       "      <td>2014</td>\n",
       "      <td>1</td>\n",
       "      <td>TOTAL</td>\n",
       "      <td>LESTE</td>\n",
       "      <td>ITAIM PAULISTA</td>\n",
       "      <td>623072</td>\n",
       "    </tr>\n",
       "  </tbody>\n",
       "</table>\n",
       "</div>"
      ],
      "text/plain": [
       "    Ano  Mes Cidade    Zona             Sub_Prefeitura  \\\n",
       "0  2014    1  TOTAL  CENTRO                         SE   \n",
       "1  2014    1  TOTAL   LESTE  ARICANDUVA-FORMOSA-CARRAO   \n",
       "2  2014    1  TOTAL   LESTE         ERMELINO MATARAZZO   \n",
       "3  2014    1  TOTAL   LESTE                 GUAIANASES   \n",
       "4  2014    1  TOTAL   LESTE             ITAIM PAULISTA   \n",
       "\n",
       "   Volume_Passageiros_BU_VT_DIN  \n",
       "0                      19599200  \n",
       "1                       1234500  \n",
       "2                         37373  \n",
       "3                       2652418  \n",
       "4                        623072  "
      ]
     },
     "execution_count": 12,
     "metadata": {},
     "output_type": "execute_result"
    }
   ],
   "source": [
    "'''\n",
    "LEMBRA DE MUDAR O NOME DO ARQUIVO PARA df_final_tratado DEPOIS DE AUTALIZAR O BD_BILHETAGEM E RODAR O DF TRATADO\n",
    "'''\n",
    "df_bilhetagem = pd.read_csv(local_origem + \"/df_final_agrupado_ano_mes.csv\", sep=\",\", decimal=\",\" )\n",
    "df_bilhetagem['Volume_Passageiros_BU_VT_DIN'] = df_bilhetagem['Volume_Passageiros_BU_VT_DIN'].astype(int)\n",
    "df_bilhetagem.head()"
   ]
  },
  {
   "cell_type": "code",
   "execution_count": 13,
   "id": "79d12a65",
   "metadata": {},
   "outputs": [],
   "source": [
    "'''\n",
    "Irá realizar os ajustes de datas necessários, periorizando por dia, além de quebrar em 2 arquivos\n",
    "'''\n",
    "df_subpref, df_zonas, df_total = agrupamento_periodico(df_bilhetagem)"
   ]
  },
  {
   "cell_type": "code",
   "execution_count": 14,
   "id": "59097c2d",
   "metadata": {},
   "outputs": [],
   "source": [
    "#Criação das Listas\n",
    "Sub_Prefeituras = np.unique(df_bilhetagem['Sub_Prefeitura'].astype(str).to_list())\n",
    "Zonas = np.unique(df_bilhetagem['Zona'].astype(str).to_list())"
   ]
  },
  {
   "cell_type": "markdown",
   "id": "da19f764",
   "metadata": {},
   "source": [
    "### 2. Ajuste dos Modelos (Grid Search)"
   ]
  },
  {
   "cell_type": "code",
   "execution_count": null,
   "id": "bbdcf234",
   "metadata": {},
   "outputs": [],
   "source": [
    "# Loop para encontrar o melhor modelo para cada 'Sub_Prefeitura' e 'Zona'\n",
    "for sub_prefeitura in Sub_Prefeituras[0:1]:\n",
    "    print(\"Ajustando modelos para Sub-Prefeitura de \" + sub_prefeitura)\n",
    "    best_models_subpref = grid_search_best_model_no_parallel(df_subpref, 'Sub_Prefeitura', sub_prefeitura)\n",
    "    with open(f'best_models_subpref_{sub_prefeitura}.pkl', 'wb') as f:\n",
    "        pickle.dump(best_models_subpref, f)\n",
    "\n",
    "print(\"Modelos treinados e salvos com sucesso.\")        "
   ]
  },
  {
   "cell_type": "code",
   "execution_count": null,
   "id": "67ed125a",
   "metadata": {},
   "outputs": [],
   "source": [
    "for zona in Zonas[0:1]:\n",
    "    print(\"Ajustando modelos para Zona \" + zona)\n",
    "    best_models_zona = grid_search_best_model(df_zonas, 'Zona', zona)\n",
    "    with open(f'best_models_zona_{zona}.pkl', 'wb') as f:\n",
    "        pickle.dump(best_models_zona, f)\n",
    "\n",
    "print(\"Modelos treinados e salvos com sucesso.\")"
   ]
  },
  {
   "cell_type": "code",
   "execution_count": 15,
   "id": "b9e33f24",
   "metadata": {},
   "outputs": [
    {
     "name": "stdout",
     "output_type": "stream",
     "text": [
      "Ajustando modelos para o total\n",
      "O intevalo corresponde a 133  datas\n",
      "Séries geradas para o modelo de séries temporais\n",
      "Modelos treinados e salvos com sucesso.\n"
     ]
    }
   ],
   "source": [
    "print(\"Ajustando modelos para o total\")\n",
    "best_models_total = grid_search_best_model(df_total, 'Cidade', 'Total')\n",
    "with open(f'best_models_total.pkl', 'wb') as f:\n",
    "    pickle.dump(best_models_total, f)\n",
    "print(\"Modelos treinados e salvos com sucesso.\")"
   ]
  }
 ],
 "metadata": {
  "kernelspec": {
   "display_name": "Python 3",
   "language": "python",
   "name": "python3"
  },
  "language_info": {
   "codemirror_mode": {
    "name": "ipython",
    "version": 3
   },
   "file_extension": ".py",
   "mimetype": "text/x-python",
   "name": "python",
   "nbconvert_exporter": "python",
   "pygments_lexer": "ipython3",
   "version": "3.8.8"
  }
 },
 "nbformat": 4,
 "nbformat_minor": 5
}
